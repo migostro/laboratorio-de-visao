{
  "nbformat": 4,
  "nbformat_minor": 0,
  "metadata": {
    "colab": {
      "name": "NormalizeDataSet.ipynb",
      "provenance": [],
      "collapsed_sections": [],
      "authorship_tag": "ABX9TyOHXXS9/AOUIKNUtae53Ilv",
      "include_colab_link": true
    },
    "kernelspec": {
      "name": "python3",
      "display_name": "Python 3"
    },
    "language_info": {
      "name": "python"
    }
  },
  "cells": [
    {
      "cell_type": "markdown",
      "metadata": {
        "id": "view-in-github",
        "colab_type": "text"
      },
      "source": [
        "<a href=\"https://colab.research.google.com/github/migostro/laboratorio-de-visao/blob/main/NormalizeDataSet.ipynb\" target=\"_parent\"><img src=\"https://colab.research.google.com/assets/colab-badge.svg\" alt=\"Open In Colab\"/></a>"
      ]
    },
    {
      "cell_type": "code",
      "source": [
        "from google.colab import files, drive\n",
        "from skimage.exposure import equalize_hist, histogram\n",
        "import imageio\n",
        "import os\n",
        "import numpy as np"
      ],
      "metadata": {
        "id": "h5YuSMMpGO_y"
      },
      "execution_count": null,
      "outputs": []
    },
    {
      "cell_type": "code",
      "source": [
        "drive.mount('/content/drive')\n",
        "\n",
        "# pasta onde as imagens vão ser lidas\n",
        "pasta_raiz = \"/content/drive/MyDrive/ime/mac0417/ep\""
      ],
      "metadata": {
        "id": "CdXGX-IdF-ML"
      },
      "execution_count": null,
      "outputs": []
    },
    {
      "cell_type": "code",
      "source": [
        "# Algoritmo recursivo que recebe a pasta_raiz que estão as imagens e uma lista vazia caminhos\n",
        "# Retorna todos os caminhos até as imagens\n",
        "def monta_caminhos(pasta, caminhos = []):\n",
        "    for nome in os.listdir(pasta):\n",
        "        caminho = os.path.join(pasta, nome)\n",
        "\n",
        "        # Adiciona apenas caminhos que são de arquivos (que no nosso caso são imagens)\n",
        "        if os.path.isfile(caminho):\n",
        "            caminhos.append(caminho)\n",
        "        else:\n",
        "            monta_caminhos(caminho, caminhos)\n",
        "    return caminhos"
      ],
      "metadata": {
        "id": "lPd6ES7lHCt0"
      },
      "execution_count": null,
      "outputs": []
    },
    {
      "cell_type": "code",
      "source": [
        "# pasta onde os arquivos serão salvos\n",
        "pasta_normalized = pasta_raiz + \"/normalizedDataSet\"\n",
        "pasta_augmented = pasta_raiz + \"/augmentedDataSet\""
      ],
      "metadata": {
        "id": "_jbD0ONrHWML"
      },
      "execution_count": null,
      "outputs": []
    },
    {
      "cell_type": "code",
      "source": [
        "# pega o caminho da imagens que estão na augmentedDataSet\n",
        "caminhos = monta_caminhos(pasta_augmented)"
      ],
      "metadata": {
        "id": "47vW_cPDHbEl"
      },
      "execution_count": null,
      "outputs": []
    },
    {
      "cell_type": "code",
      "execution_count": null,
      "metadata": {
        "id": "cfOBKkfRA72X"
      },
      "outputs": [],
      "source": [
        "# assume que todas as fotos tem o mesmo tamanho\n",
        "for caminho in caminhos:\n",
        "    imagem = imageio.imread(caminho)\n",
        "\n",
        "    nome_arquivo = caminho.split('/')[-1]\n",
        "\n",
        "    # pastas que estão entre a originalDataSet e o arquivo (não incluindo nenhum dos dois)\n",
        "    local_salvo = caminho[len(pasta_augmented):len(caminho)-len(nome_arquivo)]\n",
        "\n",
        "    # Equaliza a imagem\n",
        "    imagem = equalize_hist(imagem)\n",
        "\n",
        "\n",
        "    # cria os diretorio recursivamente caso não existam\n",
        "    # TODO: fazer isto fora deste for\n",
        "    if not os.path.isdir(pasta_normalized + local_salvo):\n",
        "      os.makedirs(pasta_normalized + local_salvo)\n",
        "\n",
        "    imageio.imsave(pasta_normalized + local_salvo + nome_arquivo, imagem)"
      ]
    },
    {
      "cell_type": "markdown",
      "source": [
        "### Análise da variação das classes"
      ],
      "metadata": {
        "id": "D2N23E5HJ-9d"
      }
    },
    {
      "cell_type": "code",
      "source": [
        "img = imageio.imread(caminhos[0])\n",
        "\n",
        "imagem_media = []\n",
        "\n",
        "# TODO: colocar os nomes das classes\n",
        "classes = []\n",
        "\n",
        "x = map()\n",
        "\n",
        "for classe in classes:\n",
        "  imagem_media.append(np.zeros(img.shape))\n"
      ],
      "metadata": {
        "id": "r4WTkmvsJ-IE"
      },
      "execution_count": null,
      "outputs": []
    }
  ]
}