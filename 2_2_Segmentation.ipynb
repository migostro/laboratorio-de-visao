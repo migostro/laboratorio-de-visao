{
  "cells": [
    {
      "cell_type": "markdown",
      "metadata": {
        "id": "view-in-github",
        "colab_type": "text"
      },
      "source": [
        "<a href=\"https://colab.research.google.com/github/migostro/laboratorio-de-visao/blob/main/2_2_Segmentation.ipynb\" target=\"_parent\"><img src=\"https://colab.research.google.com/assets/colab-badge.svg\" alt=\"Open In Colab\"/></a>"
      ]
    },
    {
      "cell_type": "markdown",
      "metadata": {
        "id": "EGOmQZBQOPnG"
      },
      "source": [
        "# Imports"
      ]
    },
    {
      "cell_type": "code",
      "execution_count": null,
      "metadata": {
        "id": "M2bd4C7wOKB0"
      },
      "outputs": [],
      "source": [
        "!pip install scikit-image==0.19.2"
      ]
    },
    {
      "cell_type": "code",
      "execution_count": null,
      "metadata": {
        "id": "2na_yt_xOPKW"
      },
      "outputs": [],
      "source": [
        "# utilities\n",
        "from operator import truediv\n",
        "import os\n",
        "import time\n",
        "import numpy as np\n",
        "from google.colab import files, drive\n",
        "\n",
        "# image processing\n",
        "from scipy import ndimage\n",
        "from skimage import io, exposure, filters, transform\n",
        "from skimage import data, measure\n",
        "from skimage import color\n",
        "from skimage import morphology\n",
        "from skimage import segmentation\n",
        "from skimage.util import img_as_ubyte\n",
        "from skimage.filters.rank import entropy\n",
        "from sklearn.metrics import jaccard_score\n",
        "\n",
        "# visualization\n",
        "from matplotlib import pyplot as plt\n",
        "from mpl_toolkits.axes_grid1 import ImageGrid"
      ]
    },
    {
      "cell_type": "markdown",
      "metadata": {
        "id": "g3hOKGeROSko"
      },
      "source": [
        "# Helper Functions"
      ]
    },
    {
      "cell_type": "code",
      "execution_count": null,
      "metadata": {
        "id": "K1dYcksVOcKd"
      },
      "outputs": [],
      "source": [
        "def float_to_int(img):\n",
        "    return (img*255).astype(np.uint8)"
      ]
    },
    {
      "cell_type": "code",
      "execution_count": null,
      "metadata": {
        "id": "TWe_P5ZtOpoc"
      },
      "outputs": [],
      "source": [
        "# list_filepaths(): list filepath for every filepath on a root folder\n",
        "# pre-condition: (root path, empty list)\n",
        "# post-condition: list with every filepath on root path\n",
        "def list_filepaths(path, file_extension, filepaths = []):\n",
        "    if os.path.isdir(path):\n",
        "        for filename in os.listdir(path):\n",
        "            filepath = os.path.join(path, filename)\n",
        "            if os.path.isfile(filepath) and file_extension in filename: filepaths.append(filepath) # Adiciona apenas caminhos que são de arquivos (que no nosso caso são imagens)\n",
        "            else: list_filepaths(filepath, file_extension, filepaths)\n",
        "\n",
        "    return filepaths"
      ]
    },
    {
      "cell_type": "code",
      "execution_count": null,
      "metadata": {
        "id": "tSOdAHr5OrBx"
      },
      "outputs": [],
      "source": [
        "def display_single(image):\n",
        "    fig, ax = plt.subplots()\n",
        "    ax = plt.imshow(image, cmap=plt.cm.gray)\n",
        "    plt.show()\n",
        "    plt.close()"
      ]
    },
    {
      "cell_type": "code",
      "execution_count": null,
      "metadata": {
        "id": "EKr49fn6SpbG"
      },
      "outputs": [],
      "source": [
        "def gkern(l, sig):\n",
        "    # creates gaussian kernel with side length `l` and a sigma of `sig` #\n",
        "    # https://stackoverflow.com/a/43346070 #\n",
        "    ax = np.linspace(-(l - 1) / 2., (l - 1) / 2., l)\n",
        "    gauss = np.exp(-0.5 * np.square(ax) / np.square(sig))\n",
        "    kernel = np.outer(gauss, gauss)\n",
        "    return kernel / np.sum(kernel)"
      ]
    },
    {
      "cell_type": "markdown",
      "metadata": {
        "id": "XjI_sS-XOyg_"
      },
      "source": [
        "# Pipeline"
      ]
    },
    {
      "cell_type": "code",
      "execution_count": null,
      "metadata": {
        "colab": {
          "base_uri": "https://localhost:8080/"
        },
        "id": "_GpVzZD9OzMJ",
        "outputId": "d2ba4a2c-967f-40e9-f867-a657e4b92561"
      },
      "outputs": [
        {
          "output_type": "stream",
          "name": "stdout",
          "text": [
            "Drive already mounted at /content/drive; to attempt to forcibly remount, call drive.mount(\"/content/drive\", force_remount=True).\n",
            "# of images @ /content/drive/MyDrive/Colab/MAC0417/Trabalho/0_new/originalDataSet_resized: 1080\n",
            "# of images @ /content/drive/MyDrive/Colab/MAC0417/Trabalho/0_new/groundTruth_resized: 160\n",
            "# of images @ /content/drive/MyDrive/Colab/MAC0417/Trabalho/0_new/segmented_resized: 1080\n"
          ]
        }
      ],
      "source": [
        "# 0 FILE READING\n",
        "drive.mount('/content/drive')\n",
        "root = '/content/drive/MyDrive/Colab/MAC0417/Trabalho/0_new'\n",
        "resizedData_path = root + '/originalDataSet_resized'\n",
        "truth_path = root + \"/groundTruth_resized\"\n",
        "segmented_path = root + \"/segmented_resized\"\n",
        "bbox_path = root + \"/bbox_resized\"\n",
        "bbox_truth_path = root + \"/bbox_truth_resized\"\n",
        "\n",
        "resizedData_filepaths = list_filepaths(resizedData_path, 'png', [])\n",
        "truthData_filepaths = list_filepaths(truth_path, 'png', [])\n",
        "segmentedData_filepaths = list_filepaths(segmented_path, 'png', [])\n",
        "print(f'# of images @ {resizedData_path}: {len(resizedData_filepaths)}')\n",
        "print(f'# of images @ {truth_path}: {len(truthData_filepaths)}')\n",
        "print(f'# of images @ {segmented_path}: {len(segmentedData_filepaths)}')"
      ]
    },
    {
      "cell_type": "markdown",
      "source": [
        "### Segmentation"
      ],
      "metadata": {
        "id": "TvTM6Hmu005s"
      }
    },
    {
      "cell_type": "code",
      "execution_count": null,
      "metadata": {
        "id": "TjaUgvkTPLjn"
      },
      "outputs": [],
      "source": [
        "# 1 SEGMENT\n",
        "kernel = gkern(3, 1) # default: 3x3 gaussian kernel\n",
        "classes = np.array(['borrachas', 'cartas', 'celulares', 'conchas', 'copos', 'dados', 'estatuas', 'lapis', 'tubos', 'vasos'])\n",
        "scores =\t{\n",
        "  'borrachas': [],\n",
        "  'cartas': [],\n",
        "  'celulares': [],\n",
        "  'conchas': [],\n",
        "  'copos': [],\n",
        "  'dados': [],\n",
        "  'estatuas': [],\n",
        "  'lapis': [],\n",
        "  'tubos': [],\n",
        "  'vasos': [],\n",
        "}\n",
        "\n",
        "for idx, img_path in enumerate(resizedData_filepaths):\n",
        "    filename = img_path.split('/')[-1]\n",
        "    middle_path = img_path.replace(resizedData_path, '').replace(filename, '')\n",
        "\n",
        "    # read\n",
        "    print(f'[{idx}]', img_path)\n",
        "    img = io.imread(img_path)\n",
        "\n",
        "    # segment\n",
        "    if 'verde' in img_path:\n",
        "        img = (img*255).astype(np.uint8)\n",
        "        denoised = filters.rank.median(img, morphology.disk(2))\n",
        "        gaussian = filters.gaussian(denoised, sigma=.5)\n",
        "        edges = filters.sobel(gaussian)\n",
        "\n",
        "        thresholds = filters.threshold_multiotsu(img)\n",
        "\n",
        "        markers = np.zeros_like(gaussian)\n",
        "        markers[denoised < thresholds[0]] = 1\n",
        "        markers[denoised > thresholds[1]] = 2\n",
        "\n",
        "        segmentation_verde = segmentation.random_walker(edges, markers)\n",
        "        if np.amax(segmentation_verde) > 1.0: segmentation_verde = segmentation_verde - 1 # fix [1.0, 2.0] range\n",
        "        segmentation_verde = float_to_int(segmentation_verde) # convert to int\n",
        "        if segmentation_verde[10,10] == 1:\n",
        "            segmentation_verde = 1 - segmentation_verde # if background inverted: inverts range\n",
        "            segmentation_verde = segmentation_verde > 0\n",
        "        segmentation_verde_holes = morphology.remove_small_holes(segmentation_verde, area_threshold=500)\n",
        "        segmentation_verde_small = morphology.remove_small_objects(segmentation_verde_holes, min_size=500)\n",
        "\n",
        "        # write\n",
        "        if not os.path.isdir(segmented_path + middle_path): os.makedirs(segmented_path + middle_path)\n",
        "        io.imsave(img_path.replace(resizedData_path, segmented_path).replace('.JPG', '.png'), (segmentation_verde_small*1).astype(np.uint8), check_contrast=False)\n",
        "\n",
        "    else:\n",
        "        gaussian = ndimage.convolve(img, kernel, mode='nearest', cval=0.0) # convolves image and 3x3 gaussian kernel\n",
        "\n",
        "        tresh = filters.threshold_yen(gaussian)\n",
        "        mask = gaussian < tresh\n",
        "        if mask[10,10]:\n",
        "            mask = 1 - mask # if background inverted: inverts range\n",
        "            mask = mask > 0\n",
        "        mask_holes = morphology.remove_small_holes(mask, area_threshold=500)\n",
        "        mask_closing = morphology.binary_closing(mask_holes, footprint=morphology.diamond(3))\n",
        "        mask_small = morphology.remove_small_objects(mask_closing, min_size=500)\n",
        "\n",
        "        # write\n",
        "        if not os.path.isdir(segmented_path + middle_path): os.makedirs(segmented_path + middle_path)\n",
        "        io.imsave(img_path.replace(resizedData_path, segmented_path).replace('.JPG', '.png'), float_to_int(mask_small), check_contrast=False)"
      ]
    },
    {
      "cell_type": "markdown",
      "source": [
        "### Jaccard Index"
      ],
      "metadata": {
        "id": "zf5dzfGR071n"
      }
    },
    {
      "cell_type": "code",
      "execution_count": null,
      "metadata": {
        "id": "YffkokRUEg5T"
      },
      "outputs": [],
      "source": [
        "# 2 JACCARD\n",
        "classes = np.array(['borrachas', 'cartas', 'celulares', 'conchas', 'copos', 'dados', 'estatuas', 'lapis', 'tubos', 'vasos'])\n",
        "scores =\t{\n",
        "  'borrachas': [],\n",
        "  'cartas': [],\n",
        "  'celulares': [],\n",
        "  'conchas': [],\n",
        "  'copos': [],\n",
        "  'dados': [],\n",
        "  'estatuas': [],\n",
        "  'lapis': [],\n",
        "  'tubos': [],\n",
        "  'vasos': [],\n",
        "}\n",
        "scores_background =\t{\n",
        "  'branco': [],\n",
        "  'preto': [],\n",
        "  'verde': [],\n",
        "}\n",
        "scores_env =\t{\n",
        "  'exterior': [],\n",
        "  'interior': [],\n",
        "}\n",
        "scores_time =\t{\n",
        "  'dia': [],\n",
        "  'noite': [],\n",
        "}\n",
        "\n",
        "low_contrast = []\n",
        "not_green = []\n",
        "not_green_all = []\n",
        "for idx, img_path in enumerate(segmentedData_filepaths):\n",
        "    filename = img_path.split('/')[-1]\n",
        "    middle_path = img_path.replace(segmented_path, '').replace(filename, '')\n",
        "\n",
        "    # read\n",
        "    hasTruth = False\n",
        "    # print(f'[{idx}]', img_path)\n",
        "    # if 'verde' not in img_path: not_green_all.append(img_path.replace(segmented_path, resizedData_path))\n",
        "    if os.path.isfile(img_path.replace(segmented_path, truth_path).replace('.JPG', '.png')):\n",
        "        # print(f'[{idx}]', img_path.replace(segmented_path, truth_path).replace('.JPG', '.png'))\n",
        "        truth = io.imread(img_path.replace(segmented_path, truth_path).replace('.JPG', '.png'))[:,:,0]\n",
        "        truth = truth > filters.threshold_yen(truth)\n",
        "        hasTruth = True\n",
        "    \n",
        "    if hasTruth:\n",
        "        img = io.imread(img_path)\n",
        "        jaccard_idx = jaccard_score(img*1, truth*1, average='micro') # micro p/ 2d image comparison https://scikit-learn.org/stable/modules/generated/sklearn.metrics.jaccard_score.html\n",
        "        curr_class = img_path.split('/')[-3]\n",
        "        background = img_path.split('/')[-4]\n",
        "        environment = img_path.split('/')[-5]\n",
        "        time = img_path.split('/')[-6]\n",
        "        if curr_class  in scores:            scores[curr_class].append(jaccard_idx)\n",
        "        if background  in scores_background: scores_background[background].append(jaccard_idx)\n",
        "        if environment in scores_env:        scores_env[environment].append(jaccard_idx)\n",
        "        if time        in scores_time:       scores_time[time].append(jaccard_idx)\n",
        "        # if 'verde' not in img_path: not_green.append(img_path.replace(segmented_path, resizedData_path))\n",
        "        # print(f'[{idx}]', img_path)\n",
        "        # if(jaccard_idx < 0.5):\n",
        "            # print(f'[LOW JACCARD SCORE] {jaccard_idx}')\n",
        "            # if 'verde' not in img_path: low_contrast.append(img_path.replace(segmented_path, resizedData_path))\n",
        "            # print(f'[{idx}]', img_path)\n"
      ]
    },
    {
      "cell_type": "markdown",
      "source": [
        "### Trials"
      ],
      "metadata": {
        "id": "TbuZg9Zo0-2w"
      }
    },
    {
      "cell_type": "code",
      "execution_count": null,
      "metadata": {
        "id": "QeIU9MPIIstH"
      },
      "outputs": [],
      "source": [
        "kernel = gkern(3, 1) # default: 3x3 gaussian kernel\n",
        "\n",
        "def invert_mask(mask):\n",
        "    rr, cc = mask.shape\n",
        "    d = 50 # distance from image boundaries\n",
        "    invert_score = 0\n",
        "    if mask[d,d]: invert_score += 1\n",
        "    if mask[rr-d, d]: invert_score += 1\n",
        "    if mask[d, cc-d]: invert_score += 1\n",
        "    if mask[rr-d, cc-d]: invert_score += 1\n",
        "\n",
        "    if invert_score > 2:\n",
        "        mask = 1 - mask # if background inverted: inverts range\n",
        "        mask = mask > 0 # int to binary\n",
        "    return mask\n",
        "\n",
        "for idx, img_path in enumerate(not_green):\n",
        "    img = io.imread(img_path)\n",
        "    filename = img_path.split('/')[-1]\n",
        "    middle_path = img_path.replace(resizedData_path, '').replace(filename, '')\n",
        "    print(f'[{idx}]', img_path)\n",
        "\n",
        "    # [0] Chooses treshold that yield a mask with the largest contrast and rejects large areas\n",
        "    gaussian = ndimage.convolve(img, kernel, mode='nearest', cval=0.0) # convolves image and 3x3 gaussian kernel\n",
        "    yen = filters.threshold_yen(gaussian)\n",
        "    mask_yen = gaussian < yen\n",
        "    mask_yen = invert_mask(mask_yen)   # [1] Garantees that background is 0 and object is 1\n",
        "    otsu = filters.threshold_otsu(gaussian)\n",
        "    mask_otsu = gaussian < otsu\n",
        "    mask_otsu = invert_mask(mask_otsu) # [1] Garantees that background is 0 and object is 1\n",
        "\n",
        "    background_treshold = 0.85*(img.shape[0]*img.shape[1]/2)\n",
        "    area_yen = np.sum(mask_yen)\n",
        "    area_otsu = np.sum(mask_otsu)\n",
        "    if (area_yen > background_treshold) or (area_otsu > background_treshold): # rejects if area of mask is more than 85% of half of the area of the image\n",
        "        if (area_yen > background_treshold): mask = mask_otsu\n",
        "        else: mask = mask_yen\n",
        "    else:\n",
        "        if(mask_yen.std() > mask_otsu.std()): mask = mask_yen # RMS Contrast https://en.wikipedia.org/wiki/Contrast_(vision)#RMS_contrast\n",
        "        else: mask = mask_otsu\n",
        "\n",
        "    # [2] Morphological operations\n",
        "    mask = morphology.remove_small_holes(mask, area_threshold=500)          # holes\n",
        "    mask = morphology.binary_closing(mask, footprint=morphology.diamond(3)) # closing gaps\n",
        "    mask = morphology.remove_small_objects(mask, min_size=500)              # small objects\n",
        "    mask = ndimage.binary_fill_holes(mask, np.ones((3,) * mask.ndim))       # larger holes\n",
        "\n",
        "    # [3] Isolates object and extracts bounding box\n",
        "    label_img = measure.label(mask)\n",
        "    regions = measure.regionprops(label_img)\n",
        "\n",
        "    if(len(regions) > 1):\n",
        "        # isolation\n",
        "        center = (int(mask.shape[0]/2), int(mask.shape[1]/2)) # image center\n",
        "        most_centered_region = min(regions, key=lambda region: (np.linalg.norm(np.subtract(region.centroid, center))/region.area) ) # minimizes center distance and maximizes object area\n",
        "        mask_isolated = np.zeros(mask.shape)\n",
        "        mask_isolated[most_centered_region.slice] = mask[most_centered_region.slice] # object isolation\n",
        "\n",
        "        # write mask\n",
        "        if not os.path.isdir(segmented_path + middle_path): os.makedirs(segmented_path + middle_path)\n",
        "        io.imsave(img_path.replace(resizedData_path, segmented_path), float_to_int(mask), check_contrast=False)\n",
        "\n",
        "        # write bounding box\n",
        "        if not os.path.isdir(bbox_path + middle_path): os.makedirs(bbox_path + middle_path)\n",
        "        io.imsave(img_path.replace(resizedData_path, bbox_path), most_centered_region.image)\n",
        "    else:\n",
        "        # write mask\n",
        "        if not os.path.isdir(segmented_path + middle_path): os.makedirs(segmented_path + middle_path)\n",
        "        io.imsave(img_path.replace(resizedData_path, segmented_path), float_to_int(mask), check_contrast=False)\n",
        "\n",
        "        # write bounding box\n",
        "        if not os.path.isdir(bbox_path + middle_path): os.makedirs(bbox_path + middle_path)\n",
        "        io.imsave(img_path.replace(resizedData_path, bbox_path), regions[0].image)"
      ]
    },
    {
      "cell_type": "code",
      "source": [
        "# get average jaccard scores\n",
        "print('[1.1] Average Jaccard Scores by Class')\n",
        "for key, value in scores.items():\n",
        "    if value: print(key, np.average(value), np.median(value), len(value))\n",
        "print('\\n[1.2] Average Jaccard Scores by Background')\n",
        "for key, value in scores_background.items():\n",
        "    if value: print(key, np.average(value), np.median(value), len(value))\n",
        "print('\\n[1.3] Average Jaccard Scores by Environment')\n",
        "for key, value in scores_env.items():\n",
        "    if value: print(key, np.average(value), np.median(value), len(value))\n",
        "print('\\n[1.4] Average Jaccard Scores by Time')\n",
        "for key, value in scores_time.items():\n",
        "    if value: print(key, np.average(value), np.median(value), len(value))"
      ],
      "metadata": {
        "colab": {
          "base_uri": "https://localhost:8080/"
        },
        "id": "ZPslOK2bntgT",
        "outputId": "15a18039-1361-4f33-e521-391a3d969b07"
      },
      "execution_count": null,
      "outputs": [
        {
          "output_type": "stream",
          "name": "stdout",
          "text": [
            "[1.1] Average Jaccard Scores by Class\n",
            "borrachas 0.5028683849566293 0.5372073393809726 16\n",
            "cartas 0.8879609751064526 0.9654714741382896 16\n",
            "celulares 0.8587511738979308 0.9382834412314495 16\n",
            "conchas 0.7679160444890498 0.9453178330991464 16\n",
            "copos 0.583611312522249 0.5869248759873509 16\n",
            "dados 0.5013776489790986 0.6070948436590726 16\n",
            "estatuas 0.5786711861055509 0.668527715852139 16\n",
            "lapis 0.64614545721525 0.6081752987014435 16\n",
            "tubos 0.714402874720824 0.912002903974801 16\n",
            "vasos 0.7008440854595189 0.7404787566656339 16\n",
            "\n",
            "[1.2] Average Jaccard Scores by Background\n",
            "branco 0.7489363669904323 0.7360050678491648 63\n",
            "preto 0.8451549150921231 0.9169614364258526 53\n",
            "verde 0.36146783352184303 0.40740540305560063 44\n",
            "\n",
            "[1.3] Average Jaccard Scores by Environment\n",
            "exterior 0.6985966532794831 0.7318728878875912 79\n",
            "interior 0.6505142060019964 0.7166952444273367 81\n",
            "\n",
            "[1.4] Average Jaccard Scores by Time\n",
            "dia 0.6371364224692099 0.6706609276715987 120\n",
            "noite 0.7856103899733917 0.9073871602337155 40\n"
          ]
        }
      ]
    }
  ],
  "metadata": {
    "colab": {
      "collapsed_sections": [
        "g3hOKGeROSko"
      ],
      "name": "2_2_Segmentation",
      "provenance": [],
      "include_colab_link": true
    },
    "kernelspec": {
      "display_name": "Python 3",
      "name": "python3"
    },
    "language_info": {
      "name": "python"
    }
  },
  "nbformat": 4,
  "nbformat_minor": 0
}