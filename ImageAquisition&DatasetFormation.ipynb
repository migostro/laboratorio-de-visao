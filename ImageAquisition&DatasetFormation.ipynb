{
  "nbformat": 4,
  "nbformat_minor": 2,
  "metadata": {
    "colab": {
      "name": "Parte 1:  Aquisição de imagens e formação do dataset",
      "provenance": [],
      "collapsed_sections": []
    },
    "kernelspec": {
      "name": "python3",
      "display_name": "Python 3"
    },
    "language_info": {
      "name": "python"
    }
  },
  "cells": [
    {
      "cell_type": "markdown",
      "source": [
        "\r\n",
        "## **MAC0417|5768 - Visão e Processamento de Imagens**\r\n",
        "\r\n",
        "## **Parte 1: Aquisição de imagens e formação do dataset**\r\n",
        "\r\n",
        "# **1 - Introdução**\r\n",
        "\r\n",
        "# Integrantes do Projeto\r\n",
        "\r\n",
        "| **Nome**                         | **NUSP** |\r\n",
        "|:--------------------------------:|:--------:|\r\n",
        "| Aldomar Pietro Santana Silva     | 10770162 |\r\n",
        "| Arthur Sakayan                   | 10297647 |\r\n",
        "| Eduarda Ramos Bezerra de Alencar | 10372540 |\r\n",
        "| Mateus Santos Freire             | 11796889 |\r\n",
        "| Miguel Pereira Ostrowski         | 10723610 |\r\n",
        "| Rafael Badain                    | 10277102 |\r\n",
        "\r\n",
        "\r\n",
        "# Links Relevantes\r\n",
        "\r\n",
        "**Google Drive:** https://drive.google.com/drive/folders/1Zplj-5pfgdX2heNs4wEfinPCgnrLnIvQ\r\n",
        "\r\n",
        "**Github:** https://github.com/migostro/laboratorio-de-visao\r\n",
        "\r\n",
        "# Descrição da Etapa\r\n",
        "\r\n",
        "Nesta parte do EP, foi realizada a aquisição de imagens para construir o nosso dataset. As fotos foram tiradas por Rafael Badain e Eduarda Ramos, utilizando uma câmera em um tripé, tirando fotos de 10 classes de objetos, com 3 objetos únicos cada, em 3 fundos, tanto de dia quanto de noite, com iluminação interior e exterior.\r\n",
        "\r\n",
        "As fotos foram então organizadas no Google Drive em um esquema de diretórios:\r\n",
        "\r\n",
        "Tempo do dia/Iluminação/Fundo/Classe\r\n",
        "\r\n",
        "Por fim, foram formulados os metadados do dataset em um arquivo .csv. \r\n",
        "\r\n",
        "#**2 - Descrição dos Dados**\r\n",
        "\r\n",
        "# Tabela Sumária de Dados\r\n",
        "\r\n",
        "| **Descrição**         | **Valor**                |\r\n",
        "|:---------------------:|:------------------------:|\r\n",
        "| Número de Classes     | 10                       |\r\n",
        "| Número de Imagens     | 1080                     |\r\n",
        "| Tamanho da Base       | XXXXX MB                 |\r\n",
        "| Resolução das Imagens | 4608x3456                |\r\n",
        "| dpi                   | 180                      |\r\n",
        "| Intensidade de Bits   | 24                       |\r\n",
        "| Câmera                | Canon PowerShot SX530 HS |\r\n",
        "\r\n",
        "# Tabela Detalhada por Classe\r\n",
        "\r\n",
        "| **#** | **Classe** | **Número de Objetos** | **Fundos** | **Ambientes** | **Horários** | **Repetições** | **Número de Imagens** |\r\n",
        "|:-----:|:----------:|:---------------------:|:----------:|:-------------:|:------------:|:--------------:|:---------------------:|\r\n",
        "| 1     | Borracha   | 3                     | 3          | 2             | 2            | 3              | 108                   |\r\n",
        "| 2     | Carta      | 3                     | 3          | 2             | 2            | 3              | 108                   |\r\n",
        "| 3     | Celular    | 3                     | 3          | 2             | 2            | 3              | 108                   |\r\n",
        "| 4     | Concha     | 3                     | 3          | 2             | 2            | 3              | 108                   |\r\n",
        "| 5     | Copo       | 3                     | 3          | 2             | 2            | 3              | 108                   |\r\n",
        "| 6     | Dado       | 3                     | 3          | 2             | 2            | 3              | 108                   |\r\n",
        "| 7     | Estátua    | 3                     | 3          | 2             | 2            | 3              | 108                   |\r\n",
        "| 8     | Lápis      | 3                     | 3          | 2             | 2            | 3              | 108                   |\r\n",
        "| 9     | Tubo       | 3                     | 3          | 2             | 2            | 3              | 108                   |\r\n",
        "| 10    | Vela       | 3                     | 3          | 2             | 2            | 3              | 108                   |\r\n",
        "\r\n",
        "#**3 - Apresentação dos Dados**\r\n",
        "\r\n",
        "Na criação dos metadados foi feito uma função recursiva que, para cada imagem, foi verificado os diretórios que ela estava guardada para nos dar as informações que precisamos. Então por exemplo, a imagem que esta guardada em .../dia/interior/preto/tubos/IMG_0502.JPG' é uma imagem onde o  INDOORS é VERDADEIRO, o LIGHT é Dia, o BACKGROUND é Preto e a CLASS_NAME é tubo."
      ],
      "metadata": {
        "id": "nGgPAXwGKCG4"
      }
    },
    {
      "cell_type": "markdown",
      "source": [
        "#**4 - Conclusão**\n",
        "\n",
        "Em conclusão, mesmo sendo o projeto inteiro uma jornada de obstáculos, não seria difícil dizer que a construção do dataset foi a etapa mais complexa e que mais consumiu tempo em todo o processo. A bruta quantidade de tempo e esforço a ser dedicado em tirar fotos suficientes para formar a base reflete a complexidade presente em classificadores e processadores de dados profissionais. Para nós, temos apenas 10 classes e um total de poucas centenas de fotos, enquanto que classificadores devem processar e analisar bases de dados exponencialmente maiores que isso, sendo necessário para identificar muito mais do que uma dezena de fotos."
      ],
      "metadata": {
        "id": "0moFfyQxsRSU"
      }
    }
  ]
}