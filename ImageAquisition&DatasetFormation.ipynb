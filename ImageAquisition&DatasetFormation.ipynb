{
  "nbformat": 4,
  "nbformat_minor": 0,
  "metadata": {
    "colab": {
      "name": "Parte 1:  Aquisição de imagens e formação do dataset",
      "provenance": [],
      "collapsed_sections": []
    },
    "kernelspec": {
      "name": "python3",
      "display_name": "Python 3"
    },
    "language_info": {
      "name": "python"
    }
  },
  "cells": [
    {
      "cell_type": "markdown",
      "source": [
        "\n",
        "## **MAC0417|5768 - Visão e Processamento de Imagens**\n",
        "\n",
        "## **Parte 1: Aquisição de imagens e formação do dataset**\n",
        "\n",
        "# **1 - Introdução**\n",
        "\n",
        "# Integrantes do Projeto\n",
        "\n",
        "Nome: Mateus Santos Freire  &emsp; &emsp; &emsp; &emsp; &emsp; NUSP: 11796889\n",
        "\n",
        "Nome: Aldomar Pietro Santana Silva   &emsp;  &emsp;&ensp;NUSP: 10770162\n",
        "\n",
        "Nome: Miguel Pereira Ostrowski  &emsp; &emsp; &emsp;&emsp; NUSP: 10723610\n",
        "\n",
        "Nome: Arthur Sakayan   &emsp; &emsp; &emsp; &emsp; &emsp; &emsp; &emsp; &nbsp;NUSP: 10297647\n",
        "\n",
        "Nome: Eduarda Ramos Bezerra de Alencar &nbsp;NUSP:10372540\n",
        "\n",
        "Nome: Rafael Badain   &emsp;&emsp;&emsp;&emsp;&emsp;&emsp;&emsp;&emsp;&emsp; &ensp;NUSP: 10277102\n",
        "\n",
        "# Links Relevantes\n",
        "\n",
        "**Google Drive:** https://drive.google.com/drive/folders/1Zplj-5pfgdX2heNs4wEfinPCgnrLnIvQ\n",
        "\n",
        "**Github:** https://github.com/migostro/laboratorio-de-visao\n",
        "\n",
        "# Descrição da Etapa\n",
        "\n",
        "Nesta parte do EP, foi realizada a aquisição de imagens para construir o nosso dataset. As fotos foram tiradas por Rafael Badain e Eduarda Ramos, utilizando uma câmera em um tripé, tirando fotos de 10 classes de objetos, com 3 objetos únicos cada, em 3 fundos, tanto de dia quanto de noite, com iluminação interior e exterior.\n",
        "\n",
        "As fotos foram então organizadas no Google Drive em um esquema de diretórios:\n",
        "\n",
        "Tempo do dia/Iluminação/Fundo/Classe\n",
        "\n",
        "Por fim, foram formulados os metadados do dataset em um arquivo .csv. \n",
        "\n",
        "#**2 - Descrição dos Dados**\n",
        "\n",
        "# Tabela Sumária de Dados\n",
        "\n",
        "| **Descrição** | **Valor** | \n",
        "|:------|:------:|\n",
        "| Número de Classes | 10 |\n",
        "| Número de Imagens | 450 |\n",
        "| Tamanho da Base   | 2148MB |\n",
        "| Resolução das Imagens | 4608 x 3456 |\n",
        "\n",
        "# Tabela Detalhada por Classe\n",
        "\n",
        "| **Número de Classe** | **Classe** |  **Número de Objetos** | **Fundos** |   **Número de Imagens** |\n",
        "|:------:|:------|:------:|:------:|:------:|\n",
        "| 1| Celulares | 3 | Preto, Branco, Verde|  45|\n",
        "| 2 | Conchas |3 | Preto, Branco, Verde|  45|\n",
        "| 3   |Copos de Shot |3 | Preto, Branco, Verde|  45|\n",
        "| 4 | Dados |3 | Preto, Branco, Verde|  45|\n",
        "| 5 | Desodorantes |3 | Preto, Branco, Verde|  45|\n",
        "| 6 | Estátuas |3 | Preto, Branco, Verde|  45|\n",
        "| 7 | Perfumes |3 | Preto, Branco, Verde|  45|\n",
        "| 8 | Tesouras |3 | Preto, Branco, Verde|  45|\n",
        "| 9 | Tubos |3 | Preto, Branco, Verde|  45|\n",
        "| 10 | Vasos |3 | Preto, Branco, Verde|  45|\n",
        "\n",
        "#**3 - Apresentação dos Dados**\n",
        "\n",
        "Na criação dos metadados foi feito uma função recursiva que, para cada imagem, foi verificado os diretórios que ela estava guardada para nos dar as informações que precisamos. Então por exemplo, a imagem que esta guardada em .../dia/interior/preto/tubos/IMG_0502.JPG' é uma imagem onde o  INDOORS é VERDADEIRO, o LIGHT é Dia, o BACKGROUND é Preto e a CLASS_NAME é tubo."
      ],
      "metadata": {
        "id": "nGgPAXwGKCG4"
      }
    },
    {
      "cell_type": "markdown",
      "source": [
        "#**4 - Conclusão**\n",
        "\n",
        "Em conclusão, mesmo sendo o projeto inteiro uma jornada de obstáculos, não seria difícil dizer que a construção do dataset foi a etapa mais complexa e que mais consumiu tempo em todo o processo. A bruta quantidade de tempo e esforço a ser dedicado em tirar fotos suficientes para formar a base reflete a complexidade presente em classificadores e processadores de dados profissionais. Para nós, temos apenas 10 classes e um total de poucas centenas de fotos, enquanto que classificadores devem processar e analisar bases de dados exponencialmente maiores que isso, sendo necessário para identificar muito mais do que uma dezena de fotos."
      ],
      "metadata": {
        "id": "0moFfyQxsRSU"
      }
    }
  ]
}