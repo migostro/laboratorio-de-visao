{
  "nbformat": 4,
  "nbformat_minor": 0,
  "metadata": {
    "colab": {
      "name": "2_1_Rescale.ipynb",
      "provenance": [],
      "collapsed_sections": [],
      "include_colab_link": true
    },
    "kernelspec": {
      "name": "python3",
      "display_name": "Python 3"
    },
    "language_info": {
      "name": "python"
    }
  },
  "cells": [
    {
      "cell_type": "markdown",
      "metadata": {
        "id": "view-in-github",
        "colab_type": "text"
      },
      "source": [
        "<a href=\"https://colab.research.google.com/github/migostro/laboratorio-de-visao/blob/main/2_1_Rescale.ipynb\" target=\"_parent\"><img src=\"https://colab.research.google.com/assets/colab-badge.svg\" alt=\"Open In Colab\"/></a>"
      ]
    },
    {
      "cell_type": "markdown",
      "source": [
        "# Imports"
      ],
      "metadata": {
        "id": "TwGvoWELfi4T"
      }
    },
    {
      "cell_type": "code",
      "source": [
        "# utilities\n",
        "from operator import truediv\n",
        "import os\n",
        "import csv\n",
        "import time\n",
        "import numpy as np\n",
        "from google.colab import files, drive\n",
        "\n",
        "# image processing\n",
        "from scipy import ndimage\n",
        "from skimage import io, transform, filters\n",
        "\n",
        "# visualization\n",
        "from matplotlib import pyplot as plt\n",
        "from mpl_toolkits.axes_grid1 import ImageGrid"
      ],
      "metadata": {
        "id": "6jQduzQHKrrB"
      },
      "execution_count": null,
      "outputs": []
    },
    {
      "cell_type": "markdown",
      "source": [
        "# Helper Functions"
      ],
      "metadata": {
        "id": "IRCV2vi70CCx"
      }
    },
    {
      "cell_type": "code",
      "source": [
        "def display_single(image):\n",
        "    fig, ax = plt.subplots()\n",
        "    ax = plt.imshow(image, cmap=plt.cm.gray)\n",
        "    plt.show()\n",
        "    plt.close()"
      ],
      "metadata": {
        "id": "HmBPUjOq4o-N"
      },
      "execution_count": null,
      "outputs": []
    },
    {
      "cell_type": "code",
      "source": [
        "def float_to_int(img):\n",
        "    return (img*255).astype(np.uint8)"
      ],
      "metadata": {
        "id": "0X_ijUXtMUFx"
      },
      "execution_count": null,
      "outputs": []
    },
    {
      "cell_type": "code",
      "execution_count": null,
      "metadata": {
        "id": "tOCKt-ABKodT"
      },
      "outputs": [],
      "source": [
        "def list_filepaths(path, file_extension, filepaths = []):\n",
        "    if os.path.isdir(path):\n",
        "        for filename in os.listdir(path):\n",
        "            filepath = os.path.join(path, filename)\n",
        "            if os.path.isfile(filepath) and file_extension in filename: filepaths.append(filepath) # Adiciona apenas caminhos que são de arquivos (que no nosso caso são imagens)\n",
        "            else: list_filepaths(filepath, file_extension, filepaths)\n",
        "\n",
        "    return filepaths"
      ]
    },
    {
      "cell_type": "markdown",
      "source": [
        "# Pipeline"
      ],
      "metadata": {
        "id": "WLa0Y1ef0EUA"
      }
    },
    {
      "cell_type": "code",
      "source": [
        "# 0 FILE READING\n",
        "drive.mount('/content/drive')\n",
        "root = '/content/drive/MyDrive/Colab/MAC0417/Trabalho/Versão Final'\n",
        "originalData_path = root + '/originalDataSet'\n",
        "resizedData_path = root + '/originalDataSet_resized'\n",
        "\n",
        "truth_path = root + \"/groundTruth\"\n",
        "resizedTruth_path = root + \"/groundTruth_resized\"\n",
        "\n",
        "segmentedData_path = root + '/segmented_resized'\n",
        "\n",
        "original_filepaths = list_filepaths(originalData_path, 'JPG', [])\n",
        "truth_filepaths = list_filepaths(truth_path, 'png', [])\n",
        "resizedTruth_filepaths = list_filepaths(resizedTruth_path, 'png', [])\n",
        "segmented_filepaths = list_filepaths(segmentedData_path, 'png', [])\n",
        "print(f'# of images @ {originalData_path}: {len(original_filepaths)}')\n",
        "print(f'# of images @ {resizedTruth_path}: {len(resizedTruth_filepaths)}')\n",
        "print(f'# of images @ {segmentedData_path}: {len(segmented_filepaths)}')"
      ],
      "metadata": {
        "id": "Vxcippc9K2uZ",
        "colab": {
          "base_uri": "https://localhost:8080/"
        },
        "outputId": "d9080673-3eb1-4e3d-8715-60e95d38c3ac"
      },
      "execution_count": null,
      "outputs": [
        {
          "output_type": "stream",
          "name": "stdout",
          "text": [
            "Drive already mounted at /content/drive; to attempt to forcibly remount, call drive.mount(\"/content/drive\", force_remount=True).\n",
            "# of images @ /content/drive/MyDrive/Colab/MAC0417/Trabalho/0_new/originalDataSet: 1080\n",
            "# of images @ /content/drive/MyDrive/Colab/MAC0417/Trabalho/0_new/groundTruth_resized: 0\n",
            "# of images @ /content/drive/MyDrive/Colab/MAC0417/Trabalho/0_new/segmented_resized: 1080\n"
          ]
        }
      ]
    },
    {
      "cell_type": "markdown",
      "source": [
        "## Redimensionamento das imagens\n",
        "A fim de reduzir os custos computacionais da segmentação e classificação, reduzimos as imagens em 80% (fator 0.2), obtendo imagens de resolução 922 x 691\n",
        "\n",
        "Os ground truths são re-binarizados, utilizando isodata, para garantir correto funcionamento das próximas fases."
      ],
      "metadata": {
        "id": "5QSWb3S6mCHW"
      }
    },
    {
      "cell_type": "code",
      "source": [
        "# 1 RESIZE + BINARIZE IMAGES\n",
        "for idx, img_path in enumerate(truth_filepaths):\n",
        "    print(f'[{idx}]', img_path)\n",
        "    # read\n",
        "    img = io.imread(img_path)[:,:,0]\n",
        "    filename = img_path.split('/')[-1]\n",
        "    middle_path = img_path.replace(truth_path, '').replace(filename, '')\n",
        "    \n",
        "    # rescale\n",
        "    img = transform.rescale(img, 0.2, anti_aliasing=False)\n",
        "    # binarize\n",
        "    thresh = filters.threshold_isodata(img)\n",
        "    binary = ((img > thresh) * 1).astype(np.uint8)\n",
        "\n",
        "    # write\n",
        "    if not os.path.isdir(resizedTruth_path + middle_path): os.makedirs(resizedTruth_path + middle_path)\n",
        "    plt.imsave(img_path.replace(truth_path, resizedTruth_path), binary, cmap=plt.cm.gray)\n",
        "    # io.imsave(img_path.replace(truth_path, resizedTruth_path), binary)"
      ],
      "metadata": {
        "id": "86jN_Zn8RYQT",
        "colab": {
          "base_uri": "https://localhost:8080/"
        },
        "outputId": "70ef3501-03aa-4c84-c1cd-2f6a6da0fdd8"
      },
      "execution_count": null,
      "outputs": [
        {
          "output_type": "stream",
          "name": "stdout",
          "text": [
            "[0] /content/drive/MyDrive/Colab/MAC0417/Trabalho/0_new/groundTruth/dia/interior/verde/borrachas/borrachas_001/IMG_2169.png\n",
            "[1] /content/drive/MyDrive/Colab/MAC0417/Trabalho/0_new/groundTruth/dia/interior/verde/borrachas/borrachas_002/IMG_0958.png\n",
            "[2] /content/drive/MyDrive/Colab/MAC0417/Trabalho/0_new/groundTruth/dia/interior/verde/borrachas/borrachas_003/IMG_0961.png\n",
            "[3] /content/drive/MyDrive/Colab/MAC0417/Trabalho/0_new/groundTruth/dia/interior/verde/cartas/cartas_001/IMG_0982.png\n",
            "[4] /content/drive/MyDrive/Colab/MAC0417/Trabalho/0_new/groundTruth/dia/interior/verde/copos/copos_003/IMG_0964.png\n",
            "[5] /content/drive/MyDrive/Colab/MAC0417/Trabalho/0_new/groundTruth/dia/interior/verde/copos/copos_001/IMG_0967.png\n",
            "[6] /content/drive/MyDrive/Colab/MAC0417/Trabalho/0_new/groundTruth/dia/interior/verde/copos/copos_002/IMG_0970.png\n",
            "[7] /content/drive/MyDrive/Colab/MAC0417/Trabalho/0_new/groundTruth/dia/interior/verde/dados/dados_001/IMG_0953.png\n",
            "[8] /content/drive/MyDrive/Colab/MAC0417/Trabalho/0_new/groundTruth/dia/interior/verde/dados/dados_002/IMG_0947.png\n",
            "[9] /content/drive/MyDrive/Colab/MAC0417/Trabalho/0_new/groundTruth/dia/interior/verde/estatuas/estatuas_001/IMG_0920.png\n",
            "[10] /content/drive/MyDrive/Colab/MAC0417/Trabalho/0_new/groundTruth/dia/interior/verde/estatuas/estatuas_002/IMG_0923.png\n",
            "[11] /content/drive/MyDrive/Colab/MAC0417/Trabalho/0_new/groundTruth/dia/interior/verde/estatuas/estatuas_003/IMG_0926.png\n",
            "[12] /content/drive/MyDrive/Colab/MAC0417/Trabalho/0_new/groundTruth/dia/interior/verde/vasos/vasos_001/IMG_0911.png\n",
            "[13] /content/drive/MyDrive/Colab/MAC0417/Trabalho/0_new/groundTruth/dia/interior/verde/vasos/vasos_002/IMG_0914.png\n",
            "[14] /content/drive/MyDrive/Colab/MAC0417/Trabalho/0_new/groundTruth/dia/interior/verde/vasos/vasos_003/IMG_0917.png\n",
            "[15] /content/drive/MyDrive/Colab/MAC0417/Trabalho/0_new/groundTruth/dia/interior/verde/tubos/tubos_002/IMG_0979.png\n",
            "[16] /content/drive/MyDrive/Colab/MAC0417/Trabalho/0_new/groundTruth/dia/interior/branco/dados/dados_003/IMG_0844.png\n",
            "[17] /content/drive/MyDrive/Colab/MAC0417/Trabalho/0_new/groundTruth/dia/interior/branco/dados/dados_002/IMG_0841.png\n",
            "[18] /content/drive/MyDrive/Colab/MAC0417/Trabalho/0_new/groundTruth/dia/interior/branco/dados/dados_001/IMG_0838.png\n",
            "[19] /content/drive/MyDrive/Colab/MAC0417/Trabalho/0_new/groundTruth/dia/interior/branco/celulares/celulares_002/IMG_0821.png\n",
            "[20] /content/drive/MyDrive/Colab/MAC0417/Trabalho/0_new/groundTruth/dia/interior/branco/celulares/celulares_003/IMG_0826.png\n",
            "[21] /content/drive/MyDrive/Colab/MAC0417/Trabalho/0_new/groundTruth/dia/interior/branco/celulares/celulares_001/IMG_0824.png\n",
            "[22] /content/drive/MyDrive/Colab/MAC0417/Trabalho/0_new/groundTruth/dia/interior/branco/borrachas/borrachas_002/IMG_0862.png\n",
            "[23] /content/drive/MyDrive/Colab/MAC0417/Trabalho/0_new/groundTruth/dia/interior/branco/borrachas/borrachas_001/IMG_0859.png\n",
            "[24] /content/drive/MyDrive/Colab/MAC0417/Trabalho/0_new/groundTruth/dia/interior/branco/borrachas/borrachas_003/IMG_0858.png\n",
            "[25] /content/drive/MyDrive/Colab/MAC0417/Trabalho/0_new/groundTruth/dia/interior/branco/copos/copos_003/IMG_0883.png\n",
            "[26] /content/drive/MyDrive/Colab/MAC0417/Trabalho/0_new/groundTruth/dia/interior/branco/copos/copos_001/IMG_0886.png\n",
            "[27] /content/drive/MyDrive/Colab/MAC0417/Trabalho/0_new/groundTruth/dia/interior/branco/copos/copos_002/IMG_0889.png\n",
            "[28] /content/drive/MyDrive/Colab/MAC0417/Trabalho/0_new/groundTruth/dia/interior/branco/cartas/cartas_001/IMG_0868.png\n",
            "[29] /content/drive/MyDrive/Colab/MAC0417/Trabalho/0_new/groundTruth/dia/interior/branco/cartas/cartas_003/IMG_0871.png\n",
            "[30] /content/drive/MyDrive/Colab/MAC0417/Trabalho/0_new/groundTruth/dia/interior/branco/cartas/cartas_002/IMG_0865.png\n",
            "[31] /content/drive/MyDrive/Colab/MAC0417/Trabalho/0_new/groundTruth/dia/interior/branco/estatuas/estatuas_001/IMG_1097.png\n",
            "[32] /content/drive/MyDrive/Colab/MAC0417/Trabalho/0_new/groundTruth/dia/interior/branco/estatuas/estatuas_002/IMG_1100.png\n",
            "[33] /content/drive/MyDrive/Colab/MAC0417/Trabalho/0_new/groundTruth/dia/interior/branco/estatuas/estatuas_003/IMG_1104.png\n",
            "[34] /content/drive/MyDrive/Colab/MAC0417/Trabalho/0_new/groundTruth/dia/interior/branco/lapis/lapis_001/IMG_0853.png\n",
            "[35] /content/drive/MyDrive/Colab/MAC0417/Trabalho/0_new/groundTruth/dia/interior/branco/lapis/lapis_003/IMG_0850.png\n",
            "[36] /content/drive/MyDrive/Colab/MAC0417/Trabalho/0_new/groundTruth/dia/interior/branco/lapis/lapis_002/IMG_0847.png\n",
            "[37] /content/drive/MyDrive/Colab/MAC0417/Trabalho/0_new/groundTruth/dia/interior/branco/vasos/vasos_002/IMG_1113.png\n",
            "[38] /content/drive/MyDrive/Colab/MAC0417/Trabalho/0_new/groundTruth/dia/interior/branco/vasos/vasos_001/IMG_1110.png\n",
            "[39] /content/drive/MyDrive/Colab/MAC0417/Trabalho/0_new/groundTruth/dia/interior/branco/vasos/vasos_003/IMG_1107.png\n",
            "[40] /content/drive/MyDrive/Colab/MAC0417/Trabalho/0_new/groundTruth/dia/interior/preto/borrachas/borrachas_001/IMG_1053.png\n",
            "[41] /content/drive/MyDrive/Colab/MAC0417/Trabalho/0_new/groundTruth/dia/interior/preto/borrachas/borrachas_002/IMG_1074.png\n",
            "[42] /content/drive/MyDrive/Colab/MAC0417/Trabalho/0_new/groundTruth/dia/interior/preto/borrachas/borrachas_003/IMG_1048.png\n",
            "[43] /content/drive/MyDrive/Colab/MAC0417/Trabalho/0_new/groundTruth/dia/interior/preto/estatuas/estatuas_003/IMG_1016.png\n",
            "[44] /content/drive/MyDrive/Colab/MAC0417/Trabalho/0_new/groundTruth/dia/interior/preto/estatuas/estatuas_001/IMG_1012.png\n",
            "[45] /content/drive/MyDrive/Colab/MAC0417/Trabalho/0_new/groundTruth/dia/interior/preto/cartas/cartas_002/IMG_1068.png\n",
            "[46] /content/drive/MyDrive/Colab/MAC0417/Trabalho/0_new/groundTruth/dia/interior/preto/cartas/cartas_001/IMG_1071.png\n",
            "[47] /content/drive/MyDrive/Colab/MAC0417/Trabalho/0_new/groundTruth/dia/interior/preto/cartas/cartas_003/IMG_1065.png\n",
            "[48] /content/drive/MyDrive/Colab/MAC0417/Trabalho/0_new/groundTruth/dia/interior/preto/tubos/tubos_002/IMG_1040.png\n",
            "[49] /content/drive/MyDrive/Colab/MAC0417/Trabalho/0_new/groundTruth/dia/interior/preto/tubos/tubos_001/IMG_1037.png\n",
            "[50] /content/drive/MyDrive/Colab/MAC0417/Trabalho/0_new/groundTruth/dia/interior/preto/tubos/tubos_003/IMG_1043.png\n",
            "[51] /content/drive/MyDrive/Colab/MAC0417/Trabalho/0_new/groundTruth/dia/interior/preto/vasos/vasos_001/IMG_1006.png\n",
            "[52] /content/drive/MyDrive/Colab/MAC0417/Trabalho/0_new/groundTruth/dia/interior/preto/vasos/vasos_003/IMG_1000.png\n",
            "[53] /content/drive/MyDrive/Colab/MAC0417/Trabalho/0_new/groundTruth/dia/interior/preto/vasos/vasos_002/IMG_1003.png\n",
            "[54] /content/drive/MyDrive/Colab/MAC0417/Trabalho/0_new/groundTruth/dia/interior/preto/dados/dados_003/IMG_1031.png\n",
            "[55] /content/drive/MyDrive/Colab/MAC0417/Trabalho/0_new/groundTruth/dia/interior/preto/dados/dados_001/IMG_1034.png\n",
            "[56] /content/drive/MyDrive/Colab/MAC0417/Trabalho/0_new/groundTruth/dia/interior/preto/dados/dados_002/IMG_1028.png\n",
            "[57] /content/drive/MyDrive/Colab/MAC0417/Trabalho/0_new/groundTruth/dia/interior/preto/copos/copos_001/IMG_1077.png\n",
            "[58] /content/drive/MyDrive/Colab/MAC0417/Trabalho/0_new/groundTruth/dia/interior/preto/copos/copos_002/IMG_1080.png\n",
            "[59] /content/drive/MyDrive/Colab/MAC0417/Trabalho/0_new/groundTruth/dia/exterior/preto/cartas/cartas_002/IMG_1246.png\n",
            "[60] /content/drive/MyDrive/Colab/MAC0417/Trabalho/0_new/groundTruth/dia/exterior/preto/cartas/cartas_003/IMG_1243.png\n",
            "[61] /content/drive/MyDrive/Colab/MAC0417/Trabalho/0_new/groundTruth/dia/exterior/preto/cartas/cartas_001/IMG_1249.png\n",
            "[62] /content/drive/MyDrive/Colab/MAC0417/Trabalho/0_new/groundTruth/dia/exterior/preto/borrachas/borrachas_001/IMG_1293.png\n",
            "[63] /content/drive/MyDrive/Colab/MAC0417/Trabalho/0_new/groundTruth/dia/exterior/preto/borrachas/borrachas_002/IMG_1295.png\n",
            "[64] /content/drive/MyDrive/Colab/MAC0417/Trabalho/0_new/groundTruth/dia/exterior/preto/borrachas/borrachas_003/IMG_1289.png\n",
            "[65] /content/drive/MyDrive/Colab/MAC0417/Trabalho/0_new/groundTruth/dia/exterior/preto/dados/dados_001/IMG_1270.png\n",
            "[66] /content/drive/MyDrive/Colab/MAC0417/Trabalho/0_new/groundTruth/dia/exterior/preto/dados/dados_002/IMG_1273.png\n",
            "[67] /content/drive/MyDrive/Colab/MAC0417/Trabalho/0_new/groundTruth/dia/exterior/preto/dados/dados_003/IMG_1276.png\n",
            "[68] /content/drive/MyDrive/Colab/MAC0417/Trabalho/0_new/groundTruth/dia/exterior/preto/tubos/tubos_002/IMG_1225.png\n",
            "[69] /content/drive/MyDrive/Colab/MAC0417/Trabalho/0_new/groundTruth/dia/exterior/preto/tubos/tubos_001/IMG_1231.png\n",
            "[70] /content/drive/MyDrive/Colab/MAC0417/Trabalho/0_new/groundTruth/dia/exterior/preto/tubos/tubos_003/IMG_1228.png\n",
            "[71] /content/drive/MyDrive/Colab/MAC0417/Trabalho/0_new/groundTruth/dia/exterior/preto/estatuas/estatuas_001/IMG_1216.png\n",
            "[72] /content/drive/MyDrive/Colab/MAC0417/Trabalho/0_new/groundTruth/dia/exterior/preto/estatuas/estatuas_003/IMG_1222.png\n",
            "[73] /content/drive/MyDrive/Colab/MAC0417/Trabalho/0_new/groundTruth/dia/exterior/preto/copos/copos_002/IMG_1255.png\n",
            "[74] /content/drive/MyDrive/Colab/MAC0417/Trabalho/0_new/groundTruth/dia/exterior/preto/conchas/conchas_002/IMG_1279.png\n",
            "[75] /content/drive/MyDrive/Colab/MAC0417/Trabalho/0_new/groundTruth/dia/exterior/preto/celulares/celulares_001/IMG_1267.png\n",
            "[76] /content/drive/MyDrive/Colab/MAC0417/Trabalho/0_new/groundTruth/dia/exterior/preto/vasos/vasos_003/IMG_1207.png\n",
            "[77] /content/drive/MyDrive/Colab/MAC0417/Trabalho/0_new/groundTruth/dia/exterior/preto/vasos/vasos_002/IMG_1210.png\n",
            "[78] /content/drive/MyDrive/Colab/MAC0417/Trabalho/0_new/groundTruth/dia/exterior/verde/borrachas/borrachas_001/IMG_1375.png\n",
            "[79] /content/drive/MyDrive/Colab/MAC0417/Trabalho/0_new/groundTruth/dia/exterior/verde/cartas/cartas_002/IMG_1354.png\n",
            "[80] /content/drive/MyDrive/Colab/MAC0417/Trabalho/0_new/groundTruth/dia/exterior/verde/cartas/cartas_003/IMG_1351.png\n",
            "[81] /content/drive/MyDrive/Colab/MAC0417/Trabalho/0_new/groundTruth/dia/exterior/verde/cartas/cartas_001/IMG_1357.png\n",
            "[82] /content/drive/MyDrive/Colab/MAC0417/Trabalho/0_new/groundTruth/dia/exterior/verde/celulares/celulares_002/IMG_1345.png\n",
            "[83] /content/drive/MyDrive/Colab/MAC0417/Trabalho/0_new/groundTruth/dia/exterior/verde/celulares/celulares_001/IMG_1342.png\n",
            "[84] /content/drive/MyDrive/Colab/MAC0417/Trabalho/0_new/groundTruth/dia/exterior/verde/dados/dados_003/IMG_1381.png\n",
            "[85] /content/drive/MyDrive/Colab/MAC0417/Trabalho/0_new/groundTruth/dia/exterior/verde/dados/dados_002/IMG_1378.png\n",
            "[86] /content/drive/MyDrive/Colab/MAC0417/Trabalho/0_new/groundTruth/dia/exterior/verde/copos/copos_001/IMG_1318.png\n",
            "[87] /content/drive/MyDrive/Colab/MAC0417/Trabalho/0_new/groundTruth/dia/exterior/verde/copos/copos_003/IMG_1321.png\n",
            "[88] /content/drive/MyDrive/Colab/MAC0417/Trabalho/0_new/groundTruth/dia/exterior/verde/copos/copos_002/IMG_1315.png\n",
            "[89] /content/drive/MyDrive/Colab/MAC0417/Trabalho/0_new/groundTruth/dia/exterior/verde/estatuas/estatuas_001/IMG_1297.png\n",
            "[90] /content/drive/MyDrive/Colab/MAC0417/Trabalho/0_new/groundTruth/dia/exterior/verde/estatuas/estatuas_002/IMG_1300.png\n",
            "[91] /content/drive/MyDrive/Colab/MAC0417/Trabalho/0_new/groundTruth/dia/exterior/verde/estatuas/estatuas_003/IMG_1303.png\n",
            "[92] /content/drive/MyDrive/Colab/MAC0417/Trabalho/0_new/groundTruth/dia/exterior/verde/vasos/vasos_003/IMG_1309.png\n",
            "[93] /content/drive/MyDrive/Colab/MAC0417/Trabalho/0_new/groundTruth/dia/exterior/verde/vasos/vasos_001/IMG_1312.png\n",
            "[94] /content/drive/MyDrive/Colab/MAC0417/Trabalho/0_new/groundTruth/dia/exterior/verde/tubos/tubos_002/IMG_1327.png\n",
            "[95] /content/drive/MyDrive/Colab/MAC0417/Trabalho/0_new/groundTruth/dia/exterior/verde/tubos/tubos_001/IMG_1330.png\n",
            "[96] /content/drive/MyDrive/Colab/MAC0417/Trabalho/0_new/groundTruth/dia/exterior/verde/tubos/tubos_003/IMG_1324.png\n",
            "[97] /content/drive/MyDrive/Colab/MAC0417/Trabalho/0_new/groundTruth/dia/exterior/branco/estatuas/estatuas_002/IMG_1119.png\n",
            "[98] /content/drive/MyDrive/Colab/MAC0417/Trabalho/0_new/groundTruth/dia/exterior/branco/estatuas/estatuas_001/IMG_1116.png\n",
            "[99] /content/drive/MyDrive/Colab/MAC0417/Trabalho/0_new/groundTruth/dia/exterior/branco/estatuas/estatuas_003/IMG_1122.png\n",
            "[100] /content/drive/MyDrive/Colab/MAC0417/Trabalho/0_new/groundTruth/dia/exterior/branco/cartas/cartas_001/IMG_1171.png\n",
            "[101] /content/drive/MyDrive/Colab/MAC0417/Trabalho/0_new/groundTruth/dia/exterior/branco/cartas/cartas_002/IMG_1174.png\n",
            "[102] /content/drive/MyDrive/Colab/MAC0417/Trabalho/0_new/groundTruth/dia/exterior/branco/cartas/cartas_003/IMG_1177.png\n",
            "[103] /content/drive/MyDrive/Colab/MAC0417/Trabalho/0_new/groundTruth/dia/exterior/branco/celulares/celulares_003/IMG_1132.png\n",
            "[104] /content/drive/MyDrive/Colab/MAC0417/Trabalho/0_new/groundTruth/dia/exterior/branco/celulares/celulares_001/IMG_1125.png\n",
            "[105] /content/drive/MyDrive/Colab/MAC0417/Trabalho/0_new/groundTruth/dia/exterior/branco/lapis/lapis_002/IMG_1156.png\n",
            "[106] /content/drive/MyDrive/Colab/MAC0417/Trabalho/0_new/groundTruth/dia/exterior/branco/lapis/lapis_001/IMG_1153.png\n",
            "[107] /content/drive/MyDrive/Colab/MAC0417/Trabalho/0_new/groundTruth/dia/exterior/branco/lapis/lapis_003/IMG_1159.png\n",
            "[108] /content/drive/MyDrive/Colab/MAC0417/Trabalho/0_new/groundTruth/dia/exterior/branco/borrachas/borrachas_002/IMG_1149.png\n",
            "[109] /content/drive/MyDrive/Colab/MAC0417/Trabalho/0_new/groundTruth/dia/exterior/branco/borrachas/borrachas_003/IMG_1150.png\n",
            "[110] /content/drive/MyDrive/Colab/MAC0417/Trabalho/0_new/groundTruth/dia/exterior/branco/borrachas/borrachas_001/IMG_1145.png\n",
            "[111] /content/drive/MyDrive/Colab/MAC0417/Trabalho/0_new/groundTruth/dia/exterior/branco/dados/dados_001/IMG_1195.png\n",
            "[112] /content/drive/MyDrive/Colab/MAC0417/Trabalho/0_new/groundTruth/dia/exterior/branco/dados/dados_002/IMG_1189.png\n",
            "[113] /content/drive/MyDrive/Colab/MAC0417/Trabalho/0_new/groundTruth/dia/exterior/branco/dados/dados_003/IMG_1192.png\n",
            "[114] /content/drive/MyDrive/Colab/MAC0417/Trabalho/0_new/groundTruth/dia/exterior/branco/vasos/vasos_002/IMG_1201.png\n",
            "[115] /content/drive/MyDrive/Colab/MAC0417/Trabalho/0_new/groundTruth/dia/exterior/branco/vasos/vasos_001/IMG_1198.png\n",
            "[116] /content/drive/MyDrive/Colab/MAC0417/Trabalho/0_new/groundTruth/dia/exterior/branco/vasos/vasos_003/IMG_1204.png\n",
            "[117] /content/drive/MyDrive/Colab/MAC0417/Trabalho/0_new/groundTruth/dia/exterior/branco/copos/copos_001/IMG_1180.png\n",
            "[118] /content/drive/MyDrive/Colab/MAC0417/Trabalho/0_new/groundTruth/dia/exterior/branco/copos/copos_002/IMG_1183.png\n",
            "[119] /content/drive/MyDrive/Colab/MAC0417/Trabalho/0_new/groundTruth/dia/exterior/branco/copos/copos_003/IMG_1186.png\n",
            "[120] /content/drive/MyDrive/Colab/MAC0417/Trabalho/0_new/groundTruth/noite/interior/branco/celulares/celulares_001/IMG_1679.png\n",
            "[121] /content/drive/MyDrive/Colab/MAC0417/Trabalho/0_new/groundTruth/noite/interior/branco/celulares/celulares_002/IMG_1678.png\n",
            "[122] /content/drive/MyDrive/Colab/MAC0417/Trabalho/0_new/groundTruth/noite/interior/branco/celulares/celulares_003/IMG_1682.png\n",
            "[123] /content/drive/MyDrive/Colab/MAC0417/Trabalho/0_new/groundTruth/noite/interior/branco/conchas/conchas_002/IMG_1688.png\n",
            "[124] /content/drive/MyDrive/Colab/MAC0417/Trabalho/0_new/groundTruth/noite/interior/branco/conchas/conchas_001/IMG_1691.png\n",
            "[125] /content/drive/MyDrive/Colab/MAC0417/Trabalho/0_new/groundTruth/noite/interior/branco/conchas/conchas_003/IMG_1685.png\n",
            "[126] /content/drive/MyDrive/Colab/MAC0417/Trabalho/0_new/groundTruth/noite/interior/branco/lapis/lapis_003/IMG_1626.png\n",
            "[127] /content/drive/MyDrive/Colab/MAC0417/Trabalho/0_new/groundTruth/noite/interior/branco/lapis/lapis_001/IMG_1629.png\n",
            "[128] /content/drive/MyDrive/Colab/MAC0417/Trabalho/0_new/groundTruth/noite/interior/branco/lapis/lapis_002/IMG_1623.png\n",
            "[129] /content/drive/MyDrive/Colab/MAC0417/Trabalho/0_new/groundTruth/noite/interior/verde/conchas/conchas_001/IMG_1557.png\n",
            "[130] /content/drive/MyDrive/Colab/MAC0417/Trabalho/0_new/groundTruth/noite/interior/verde/conchas/conchas_003/IMG_1551.png\n",
            "[131] /content/drive/MyDrive/Colab/MAC0417/Trabalho/0_new/groundTruth/noite/interior/verde/conchas/conchas_002/IMG_1554.png\n",
            "[132] /content/drive/MyDrive/Colab/MAC0417/Trabalho/0_new/groundTruth/noite/interior/verde/celulares/celulares_002/IMG_1530.png\n",
            "[133] /content/drive/MyDrive/Colab/MAC0417/Trabalho/0_new/groundTruth/noite/interior/verde/celulares/celulares_003/IMG_1527.png\n",
            "[134] /content/drive/MyDrive/Colab/MAC0417/Trabalho/0_new/groundTruth/noite/interior/verde/lapis/lapis_002/IMG_2172.png\n",
            "[135] /content/drive/MyDrive/Colab/MAC0417/Trabalho/0_new/groundTruth/noite/interior/preto/celulares/celulares_002/IMG_1443.png\n",
            "[136] /content/drive/MyDrive/Colab/MAC0417/Trabalho/0_new/groundTruth/noite/interior/preto/tubos/tubos_002/IMG_1396.png\n",
            "[137] /content/drive/MyDrive/Colab/MAC0417/Trabalho/0_new/groundTruth/noite/interior/preto/tubos/tubos_001/IMG_1399.png\n",
            "[138] /content/drive/MyDrive/Colab/MAC0417/Trabalho/0_new/groundTruth/noite/interior/preto/tubos/tubos_003/IMG_1402.png\n",
            "[139] /content/drive/MyDrive/Colab/MAC0417/Trabalho/0_new/groundTruth/noite/interior/preto/conchas/conchas_001/IMG_1467.png\n",
            "[140] /content/drive/MyDrive/Colab/MAC0417/Trabalho/0_new/groundTruth/noite/interior/preto/conchas/conchas_002/IMG_1470.png\n",
            "[141] /content/drive/MyDrive/Colab/MAC0417/Trabalho/0_new/groundTruth/noite/interior/preto/conchas/conchas_003/IMG_1473.png\n",
            "[142] /content/drive/MyDrive/Colab/MAC0417/Trabalho/0_new/groundTruth/noite/exterior/preto/tubos/tubos_003/IMG_2120.png\n",
            "[143] /content/drive/MyDrive/Colab/MAC0417/Trabalho/0_new/groundTruth/noite/exterior/preto/tubos/tubos_002/IMG_2124.png\n",
            "[144] /content/drive/MyDrive/Colab/MAC0417/Trabalho/0_new/groundTruth/noite/exterior/preto/tubos/tubos_001/IMG_2128.png\n",
            "[145] /content/drive/MyDrive/Colab/MAC0417/Trabalho/0_new/groundTruth/noite/exterior/preto/celulares/celulares_001/IMG_2041.png\n",
            "[146] /content/drive/MyDrive/Colab/MAC0417/Trabalho/0_new/groundTruth/noite/exterior/preto/celulares/celulares_002/IMG_2043.png\n",
            "[147] /content/drive/MyDrive/Colab/MAC0417/Trabalho/0_new/groundTruth/noite/exterior/preto/conchas/conchas_001/IMG_2024.png\n",
            "[148] /content/drive/MyDrive/Colab/MAC0417/Trabalho/0_new/groundTruth/noite/exterior/preto/conchas/conchas_002/IMG_2019.png\n",
            "[149] /content/drive/MyDrive/Colab/MAC0417/Trabalho/0_new/groundTruth/noite/exterior/preto/conchas/conchas_003/IMG_2033.png\n",
            "[150] /content/drive/MyDrive/Colab/MAC0417/Trabalho/0_new/groundTruth/noite/exterior/branco/conchas/conchas_001/IMG_1750.png\n",
            "[151] /content/drive/MyDrive/Colab/MAC0417/Trabalho/0_new/groundTruth/noite/exterior/branco/conchas/conchas_002/IMG_1754.png\n",
            "[152] /content/drive/MyDrive/Colab/MAC0417/Trabalho/0_new/groundTruth/noite/exterior/branco/conchas/conchas_003/IMG_1746.png\n",
            "[153] /content/drive/MyDrive/Colab/MAC0417/Trabalho/0_new/groundTruth/noite/exterior/branco/lapis/lapis_002/IMG_1824.png\n",
            "[154] /content/drive/MyDrive/Colab/MAC0417/Trabalho/0_new/groundTruth/noite/exterior/branco/lapis/lapis_003/IMG_1821.png\n",
            "[155] /content/drive/MyDrive/Colab/MAC0417/Trabalho/0_new/groundTruth/noite/exterior/branco/lapis/lapis_001/IMG_1818.png\n",
            "[156] /content/drive/MyDrive/Colab/MAC0417/Trabalho/0_new/groundTruth/noite/exterior/branco/copos/copos_001/IMG_1762.png\n",
            "[157] /content/drive/MyDrive/Colab/MAC0417/Trabalho/0_new/groundTruth/noite/exterior/verde/lapis/lapis_001/IMG_1943.png\n",
            "[158] /content/drive/MyDrive/Colab/MAC0417/Trabalho/0_new/groundTruth/noite/exterior/verde/lapis/lapis_002/IMG_1950.png\n",
            "[159] /content/drive/MyDrive/Colab/MAC0417/Trabalho/0_new/groundTruth/noite/exterior/verde/lapis/lapis_003/IMG_1947.png\n"
          ]
        }
      ]
    },
    {
      "cell_type": "code",
      "source": [
        "# 2 RESIZE IMAGES\n",
        "for idx, img_path in enumerate(original_filepaths):\n",
        "    save_path = img_path.replace(originalData_path, resizedData_path).replace('JPG', 'png')\n",
        "    print(f'[{idx}]', save_path)\n",
        "\n",
        "    # read\n",
        "    img = io.imread(img_path)\n",
        "    filename = img_path.split('/')[-1]\n",
        "    middle_path = img_path.replace(originalData_path, '').replace(filename, '')\n",
        "    \n",
        "    # rescale\n",
        "    img = transform.rescale(img, 0.2, anti_aliasing=True)\n",
        "\n",
        "    # write\n",
        "    if not os.path.isdir(resizedData_path + middle_path): os.makedirs(resizedData_path + middle_path)\n",
        "    io.imsave(save_path, float_to_int(img))"
      ],
      "metadata": {
        "id": "-utHFbS7Kv_-"
      },
      "execution_count": null,
      "outputs": []
    },
    {
      "cell_type": "code",
      "source": [
        "# organize images by OBJ ID\n",
        "for idx, img_path in enumerate(original_filepaths):\n",
        "    print(f'[{idx}]')\n",
        "    save_path = img_path.replace(originalData_path, truth_path).replace('JPG', 'png')\n",
        "    original_path = save_path.replace(f\"{save_path.split('/')[-2]}/\", '')\n",
        "    filename = save_path.split('/')[-1]\n",
        "\n",
        "    if os.path.isfile(original_path):\n",
        "        print(f'[{idx}]', save_path)\n",
        "        if not os.path.isdir(save_path.replace(filename, '')): os.makedirs(save_path.replace(filename, ''))\n",
        "        os.replace(original_path, save_path)"
      ],
      "metadata": {
        "id": "xr5vVa_On0Sl"
      },
      "execution_count": null,
      "outputs": []
    }
  ]
}