{
  "nbformat": 4,
  "nbformat_minor": 0,
  "metadata": {
    "colab": {
      "name": "2_3_BoundingBoxes.ipynb",
      "provenance": [],
      "include_colab_link": true
    },
    "kernelspec": {
      "name": "python3",
      "display_name": "Python 3"
    },
    "language_info": {
      "name": "python"
    }
  },
  "cells": [
    {
      "cell_type": "markdown",
      "metadata": {
        "id": "view-in-github",
        "colab_type": "text"
      },
      "source": [
        "<a href=\"https://colab.research.google.com/github/migostro/laboratorio-de-visao/blob/main/2_3_BoundingBoxes.ipynb\" target=\"_parent\"><img src=\"https://colab.research.google.com/assets/colab-badge.svg\" alt=\"Open In Colab\"/></a>"
      ]
    },
    {
      "cell_type": "code",
      "execution_count": null,
      "metadata": {
        "id": "u4ZKT9cvwzq8"
      },
      "outputs": [],
      "source": [
        "# utilities\n",
        "from operator import truediv\n",
        "import os\n",
        "import time\n",
        "import numpy as np\n",
        "from google.colab import files, drive\n",
        "\n",
        "# image processing\n",
        "from scipy import ndimage\n",
        "from skimage import io, exposure, filters, transform\n",
        "from skimage import data\n",
        "from skimage import color\n",
        "from skimage import morphology\n",
        "from skimage import segmentation, measure\n",
        "from skimage.util import img_as_ubyte\n",
        "from skimage.filters.rank import entropy\n",
        "from sklearn.metrics import jaccard_score\n",
        "\n",
        "# visualization\n",
        "from matplotlib import pyplot as plt\n",
        "from mpl_toolkits.axes_grid1 import ImageGrid"
      ]
    },
    {
      "cell_type": "code",
      "source": [
        "def display_single(image):\n",
        "    fig, ax = plt.subplots()\n",
        "    ax = plt.imshow(image, cmap=plt.cm.gray)\n",
        "    plt.show()\n",
        "    plt.close()"
      ],
      "metadata": {
        "id": "v11YU8trylTH"
      },
      "execution_count": null,
      "outputs": []
    },
    {
      "cell_type": "code",
      "source": [
        "# list_filepaths(): list filepath for every filepath on a root folder\n",
        "# pre-condition: (root path, empty list)\n",
        "# post-condition: list with every filepath on root path\n",
        "def list_filepaths(path, filepaths = []):\n",
        "    for filename in os.listdir(path):\n",
        "        if '.csv' not in filename and '.JPG' not in filename: # rejects csvs\n",
        "            filepath = os.path.join(path, filename)\n",
        "            if os.path.isfile(filepath): filepaths.append(filepath) # Adiciona apenas caminhos que são de arquivos (que no nosso caso são imagens)\n",
        "            else: list_filepaths(filepath, filepaths)\n",
        "\n",
        "    return filepaths"
      ],
      "metadata": {
        "id": "HpcujqB9xCBA"
      },
      "execution_count": null,
      "outputs": []
    },
    {
      "cell_type": "code",
      "source": [
        "def crop_image(img, bbox): \n",
        "    return img[bbox[0]:bbox[2], bbox[1]:bbox[3]]"
      ],
      "metadata": {
        "id": "T3Do4zWExqOE"
      },
      "execution_count": null,
      "outputs": []
    },
    {
      "cell_type": "code",
      "source": [
        "# 0 FILE READING\n",
        "drive.mount('/content/drive')\n",
        "root = '/content/drive/MyDrive/Colab/MAC0417/Trabalho/0_new'\n",
        "truth_path = root + \"/groundTruth_resized\"\n",
        "segmented_path = root + \"/segmented_resized\"\n",
        "bbox_path = root + \"/bbox_resized\"\n",
        "bbox_truth_path = root + \"/bbox_truth_resized\"\n",
        "\n",
        "segmentedData_filepaths = list_filepaths(segmented_path, [])\n",
        "truthData_filepaths = list_filepaths(truth_path, [])\n",
        "print(f'# of images: {len(segmentedData_filepaths)}')\n",
        "print(f'# of images: {len(truthData_filepaths)}')"
      ],
      "metadata": {
        "colab": {
          "base_uri": "https://localhost:8080/",
          "height": 242
        },
        "id": "gpZWwqpzw-Pw",
        "outputId": "74358a78-f0b9-45c2-b6eb-11ffee25b1a8"
      },
      "execution_count": null,
      "outputs": [
        {
          "output_type": "error",
          "ename": "NameError",
          "evalue": "ignored",
          "traceback": [
            "\u001b[0;31m---------------------------------------------------------------------------\u001b[0m",
            "\u001b[0;31mNameError\u001b[0m                                 Traceback (most recent call last)",
            "\u001b[0;32m<ipython-input-1-5e82f582c1a4>\u001b[0m in \u001b[0;36m<module>\u001b[0;34m()\u001b[0m\n\u001b[1;32m      1\u001b[0m \u001b[0;31m# 0 FILE READING\u001b[0m\u001b[0;34m\u001b[0m\u001b[0;34m\u001b[0m\u001b[0;34m\u001b[0m\u001b[0m\n\u001b[0;32m----> 2\u001b[0;31m \u001b[0mdrive\u001b[0m\u001b[0;34m.\u001b[0m\u001b[0mmount\u001b[0m\u001b[0;34m(\u001b[0m\u001b[0;34m'/content/drive'\u001b[0m\u001b[0;34m)\u001b[0m\u001b[0;34m\u001b[0m\u001b[0;34m\u001b[0m\u001b[0m\n\u001b[0m\u001b[1;32m      3\u001b[0m \u001b[0mroot\u001b[0m \u001b[0;34m=\u001b[0m \u001b[0;34m'/content/drive/MyDrive/Colab/MAC0417/Trabalho/0_new'\u001b[0m\u001b[0;34m\u001b[0m\u001b[0;34m\u001b[0m\u001b[0m\n\u001b[1;32m      4\u001b[0m \u001b[0mtruth_path\u001b[0m \u001b[0;34m=\u001b[0m \u001b[0mroot\u001b[0m \u001b[0;34m+\u001b[0m \u001b[0;34m\"/groundTruth_resized\"\u001b[0m\u001b[0;34m\u001b[0m\u001b[0;34m\u001b[0m\u001b[0m\n\u001b[1;32m      5\u001b[0m \u001b[0msegmented_path\u001b[0m \u001b[0;34m=\u001b[0m \u001b[0mroot\u001b[0m \u001b[0;34m+\u001b[0m \u001b[0;34m\"/segmented_resized\"\u001b[0m\u001b[0;34m\u001b[0m\u001b[0;34m\u001b[0m\u001b[0m\n",
            "\u001b[0;31mNameError\u001b[0m: name 'drive' is not defined"
          ]
        }
      ]
    },
    {
      "cell_type": "code",
      "source": [
        "for idx, img_path in enumerate(truthData_filepaths):\n",
        "    print(idx, img_path)\n",
        "    img = io.imread(img_path)[:,:,0]\n",
        "    filename = img_path.split('/')[-1]\n",
        "    middle_path = img_path.replace(truth_path, '').replace(filename, '')\n",
        "\n",
        "    label_img = measure.label(img)\n",
        "    regions = measure.regionprops(label_img)\n",
        "\n",
        "    if(len(regions) > 1): # isolate_largest_area\n",
        "        largest_region = max(regions, key=lambda region: region.area)\n",
        "        img = crop_image(img, largest_region.bbox)\n",
        "\n",
        "        if not os.path.isdir(bbox_truth_path + middle_path): os.makedirs(bbox_truth_path + middle_path)\n",
        "        io.imsave(img_path.replace(truth_path, bbox_truth_path), img)\n",
        "\n",
        "    if len(regions) == 1:\n",
        "        img = crop_image(img, regions[0].bbox)\n",
        "\n",
        "        if not os.path.isdir(bbox_truth_path + middle_path): os.makedirs(bbox_truth_path + middle_path)\n",
        "        io.imsave(img_path.replace(truth_path, bbox_truth_path), img)"
      ],
      "metadata": {
        "id": "s2_MtMy1xHbC"
      },
      "execution_count": null,
      "outputs": []
    },
    {
      "cell_type": "code",
      "source": [
        "classes = np.array(['borrachas', 'cartas', 'celulares', 'conchas', 'copos', 'dados', 'estatuas', 'lapis', 'tubos', 'vasos'])\n",
        "scores =\t{\n",
        "  'borrachas': [],\n",
        "  'cartas': [],\n",
        "  'celulares': [],\n",
        "  'conchas': [],\n",
        "  'copos': [],\n",
        "  'dados': [],\n",
        "  'estatuas': [],\n",
        "  'lapis': [],\n",
        "  'tubos': [],\n",
        "  'vasos': [],\n",
        "}\n",
        "\n",
        "for idx, img_path in enumerate(segmentedData_filepaths):\n",
        "    print(idx, img_path)\n",
        "    filename = img_path.split('/')[-1]\n",
        "    middle_path = img_path.replace(segmented_path, '').replace(filename, '')\n",
        "\n",
        "    # read\n",
        "    img = io.imread(img_path)\n",
        "    hasTruth = False\n",
        "    if os.path.isfile(img_path.replace(segmented_path, truth_path).replace('.JPG', '.jpg')):\n",
        "        truth = io.imread(img_path.replace(segmented_path, truth_path).replace('.JPG', '.jpg'))\n",
        "        truth = truth > filters.threshold_yen(truth)\n",
        "        hasTruth = True\n",
        "\n",
        "    # measure\n",
        "    label_img = measure.label(img)\n",
        "    regions = measure.regionprops(label_img)\n",
        "\n",
        "    if(len(regions) > 1): # isolate_largest_area\n",
        "        largest_region = max(regions, key=lambda region: region.area)\n",
        "        img = crop_image(img, largest_region.bbox) # (min_row, min_col, max_row, max_col)\n",
        "        \n",
        "        if not os.path.isdir(bbox_path + middle_path): os.makedirs(bbox_path + middle_path)\n",
        "        io.imsave(img_path.replace(segmented_path, bbox_path), img)\n",
        "\n",
        "        if hasTruth:\n",
        "            truth_label_img = measure.label(img)\n",
        "            truth_regions = measure.regionprops(truth_label_img)\n",
        "\n",
        "            xA = max(truth_regions[0].bbox[0], largest_region.bbox[0])\n",
        "            yA = max(truth_regions[0].bbox[1], largest_region.bbox[1])\n",
        "            xB = min(truth_regions[0].bbox[2], largest_region.bbox[2])\n",
        "            yB = min(truth_regions[0].bbox[3], largest_region.bbox[3])\n",
        "            intersectArea = (xB - xA + 1) * (yB - yA + 1)\n",
        "            unionArea = (truth_regions[0].area + largest_region.area) - intersectArea\n",
        "            score = np.abs(intersectArea/unionArea)\n",
        "\n",
        "    if len(regions) == 1:\n",
        "        img = crop_image(img, regions[0].bbox)\n",
        "\n",
        "        if not os.path.isdir(bbox_path + middle_path): os.makedirs(bbox_path + middle_path)\n",
        "        io.imsave(img_path.replace(segmented_path, bbox_path), img)\n",
        "\n",
        "        if hasTruth:\n",
        "            truth_label_img = measure.label(img)\n",
        "            truth_regions = measure.regionprops(truth_label_img)\n",
        "\n",
        "            xA = max(truth_regions[0].bbox[0], regions[0].bbox[0])\n",
        "            yA = max(truth_regions[0].bbox[1], regions[0].bbox[1])\n",
        "            xB = min(truth_regions[0].bbox[2], regions[0].bbox[2])\n",
        "            yB = min(truth_regions[0].bbox[3], regions[0].bbox[3])\n",
        "            intersectArea = (xB - xA + 1) * (yB - yA + 1)\n",
        "            unionArea = (truth_regions[0].area + regions[0].area) - intersectArea\n",
        "            score = np.abs(intersectArea/unionArea)\n",
        "\n",
        "    if hasTruth:\n",
        "        for i in range(len(classes)): # encontra de qual classe é a imagem\n",
        "            if classes[i] == img_path.split('/')[-3]:\n",
        "                scores[classes[i]].append(score)"
      ],
      "metadata": {
        "id": "R8gFNJbGEHZU"
      },
      "execution_count": null,
      "outputs": []
    },
    {
      "cell_type": "code",
      "source": [
        "# get average jaccard scores\n",
        "print('[1] Average Jaccard Scores')\n",
        "print(scores['conchas'])\n",
        "for key, value in scores.items():\n",
        "    if value: print(key, np.average(value), np.median(value), len(value))"
      ],
      "metadata": {
        "colab": {
          "base_uri": "https://localhost:8080/"
        },
        "id": "7DkebHSKH7WW",
        "outputId": "df3bef82-9a6d-4be2-b9c5-d36135c3290e"
      },
      "execution_count": null,
      "outputs": [
        {
          "output_type": "stream",
          "name": "stdout",
          "text": [
            "[1] Average Jaccard Scores\n",
            "[1.0463412556435812, 1.0868024951420958, 1.0857752890738417, 1.1071788880298707, 0.717669978570037, 18.08108108108108, 6.941001600731763, 3.017646106524203, 2.979064135614405, 17.15210355987055]\n",
            "borrachas 0.6508292741062833 0.4059015717300185 16\n",
            "cartas 0.6002764325471772 0.07068657838325901 16\n",
            "celulares 1.144038094029533 0.5309809224608419 11\n",
            "conchas 5.321466439028143 2.0431215118221377 10\n",
            "copos 0.44176799887934354 0.1329416531604538 15\n",
            "dados 1.2361908044812664 1.026005631828598 16\n",
            "estatuas 1.5057597157380531 1.0645411980131998 16\n",
            "lapis 0.7074368783305363 0.7249209265803823 16\n",
            "tubos 1.4206435610381634 1.4955068018450444 15\n",
            "vasos 1.2008590262741121 0.8470648861616804 16\n"
          ]
        }
      ]
    },
    {
      "cell_type": "code",
      "source": [
        "for idx, img_path in enumerate(segmentedData_filepaths):\n",
        "    print(idx, img_path)\n",
        "    img = io.imread(img_path)\n",
        "    filename = img_path.split('/')[-1]\n",
        "    middle_path = img_path.replace(segmented_path, '').replace(filename, '')\n",
        "\n",
        "    label_img = measure.label(img)\n",
        "    regions = measure.regionprops(label_img)\n",
        "\n",
        "    if(len(regions) > 1): # isolate_largest_area\n",
        "        largest_region = max(regions, key=lambda region: region.area)\n",
        "        img = crop_image(img, largest_region.bbox)\n",
        "\n",
        "        if not os.path.isdir(bbox_path + middle_path): os.makedirs(bbox_path + middle_path)\n",
        "        io.imsave(img_path.replace(segmented_path, bbox_path), img)\n",
        "\n",
        "    if len(regions) == 1:\n",
        "        img = crop_image(img, regions[0].bbox)\n",
        "\n",
        "        if not os.path.isdir(bbox_path + middle_path): os.makedirs(bbox_path + middle_path)\n",
        "        io.imsave(img_path.replace(segmented_path, bbox_path), img)"
      ],
      "metadata": {
        "id": "wURcBCWX9Ql4"
      },
      "execution_count": null,
      "outputs": []
    }
  ]
}