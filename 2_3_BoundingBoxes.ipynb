{
  "nbformat": 4,
  "nbformat_minor": 0,
  "metadata": {
    "colab": {
      "name": "2_3_BoundingBoxes.ipynb",
      "provenance": [],
      "include_colab_link": true
    },
    "kernelspec": {
      "name": "python3",
      "display_name": "Python 3"
    },
    "language_info": {
      "name": "python"
    }
  },
  "cells": [
    {
      "cell_type": "markdown",
      "metadata": {
        "id": "view-in-github",
        "colab_type": "text"
      },
      "source": [
        "<a href=\"https://colab.research.google.com/github/migostro/laboratorio-de-visao/blob/main/2_3_BoundingBoxes.ipynb\" target=\"_parent\"><img src=\"https://colab.research.google.com/assets/colab-badge.svg\" alt=\"Open In Colab\"/></a>"
      ]
    },
    {
      "cell_type": "markdown",
      "source": [
        "#Imports"
      ],
      "metadata": {
        "id": "MsfRaHJgPGHi"
      }
    },
    {
      "cell_type": "code",
      "execution_count": null,
      "metadata": {
        "id": "u4ZKT9cvwzq8"
      },
      "outputs": [],
      "source": [
        "# utilities\n",
        "from operator import truediv\n",
        "import os\n",
        "import time\n",
        "import numpy as np\n",
        "from google.colab import files, drive\n",
        "\n",
        "# image processing\n",
        "from scipy import ndimage\n",
        "from skimage import io, exposure, filters, transform\n",
        "from skimage import data\n",
        "from skimage import color\n",
        "from skimage import morphology\n",
        "from skimage import segmentation, measure\n",
        "from skimage.util import img_as_ubyte\n",
        "from skimage.filters.rank import entropy\n",
        "from sklearn.metrics import jaccard_score\n",
        "\n",
        "# visualization\n",
        "from matplotlib import pyplot as plt\n",
        "from mpl_toolkits.axes_grid1 import ImageGrid"
      ]
    },
    {
      "cell_type": "markdown",
      "source": [
        "# Helper Functions"
      ],
      "metadata": {
        "id": "Kw9OFallPMzL"
      }
    },
    {
      "cell_type": "code",
      "source": [
        "def float_to_int(img):\n",
        "    return (img*255).astype(np.uint8)"
      ],
      "metadata": {
        "id": "pwRPZ2jISNZN"
      },
      "execution_count": null,
      "outputs": []
    },
    {
      "cell_type": "code",
      "source": [
        "def display_single(image):\n",
        "    fig, ax = plt.subplots()\n",
        "    ax = plt.imshow(image, cmap=plt.cm.gray)\n",
        "    plt.show()\n",
        "    plt.close()"
      ],
      "metadata": {
        "id": "v11YU8trylTH"
      },
      "execution_count": null,
      "outputs": []
    },
    {
      "cell_type": "code",
      "source": [
        "# list_filepaths(): list filepath for every filepath on a root folder\n",
        "# pre-condition: (root path, empty list)\n",
        "# post-condition: list with every filepath on root path\n",
        "def list_filepaths(path, filepaths = []):\n",
        "    for filename in os.listdir(path):\n",
        "        if '.csv' not in filename and '.JPG' not in filename: # rejects csvs\n",
        "            filepath = os.path.join(path, filename)\n",
        "            if os.path.isfile(filepath): filepaths.append(filepath) # Adiciona apenas caminhos que são de arquivos (que no nosso caso são imagens)\n",
        "            else: list_filepaths(filepath, filepaths)\n",
        "\n",
        "    return filepaths"
      ],
      "metadata": {
        "id": "HpcujqB9xCBA"
      },
      "execution_count": null,
      "outputs": []
    },
    {
      "cell_type": "code",
      "source": [
        "def crop_image(img, bbox): \n",
        "    return img[bbox[0]:bbox[2], bbox[1]:bbox[3]]"
      ],
      "metadata": {
        "id": "T3Do4zWExqOE"
      },
      "execution_count": null,
      "outputs": []
    },
    {
      "cell_type": "markdown",
      "source": [
        "#Pipeline"
      ],
      "metadata": {
        "id": "G6_idHlyPRna"
      }
    },
    {
      "cell_type": "code",
      "source": [
        "# 0 FILE READING\n",
        "drive.mount('/content/drive')\n",
        "root = '/content/drive/MyDrive/Colab/MAC0417/Trabalho/0_new'\n",
        "truth_path = root + \"/groundTruth_resized\"\n",
        "segmented_path = root + \"/segmented_resized\"\n",
        "bbox_path = root + \"/bbox_resized\"\n",
        "bbox_truth_path = root + \"/bbox_truth_resized\"\n",
        "\n",
        "segmentedData_filepaths = list_filepaths(segmented_path, [])\n",
        "truthData_filepaths = list_filepaths(truth_path, [])\n",
        "print(f'# of images: {len(segmentedData_filepaths)}')\n",
        "print(f'# of images: {len(truthData_filepaths)}')"
      ],
      "metadata": {
        "colab": {
          "base_uri": "https://localhost:8080/"
        },
        "id": "gpZWwqpzw-Pw",
        "outputId": "37f2944e-5521-49fb-ab50-0574839421f8"
      },
      "execution_count": null,
      "outputs": [
        {
          "output_type": "stream",
          "name": "stdout",
          "text": [
            "Drive already mounted at /content/drive; to attempt to forcibly remount, call drive.mount(\"/content/drive\", force_remount=True).\n",
            "# of images: 1080\n",
            "# of images: 160\n"
          ]
        }
      ]
    },
    {
      "cell_type": "code",
      "source": [
        "scores =\t{\n",
        "  'borrachas': [],\n",
        "  'cartas': [],\n",
        "  'celulares': [],\n",
        "  'conchas': [],\n",
        "  'copos': [],\n",
        "  'dados': [],\n",
        "  'estatuas': [],\n",
        "  'lapis': [],\n",
        "  'tubos': [],\n",
        "  'vasos': [],\n",
        "}\n",
        "scores_background =\t{\n",
        "  'branco': [],\n",
        "  'preto': [],\n",
        "  'verde': [],\n",
        "}\n",
        "scores_env =\t{\n",
        "  'exterior': [],\n",
        "  'interior': [],\n",
        "}\n",
        "scores_time =\t{\n",
        "  'dia': [],\n",
        "  'noite': [],\n",
        "}\n",
        "\n",
        "for idx, img_path in enumerate(segmentedData_filepaths):\n",
        "    # [0] Image Input\n",
        "    filename = img_path.split('/')[-1]\n",
        "    middle_path = img_path.replace(segmented_path, '').replace(filename, '')\n",
        "\n",
        "    # read\n",
        "    hasTruth = False\n",
        "    if os.path.isfile(img_path.replace(segmented_path, truth_path).replace('.JPG', '.png')):\n",
        "        truth = io.imread(img_path.replace(segmented_path, truth_path).replace('.JPG', '.png'))[:,:,0]\n",
        "        truth = truth > filters.threshold_mean(truth)\n",
        "        hasTruth = True\n",
        "\n",
        "        label_truth = measure.label(truth)\n",
        "        regions_truth = measure.regionprops(label_truth)\n",
        "        truth_bb = np.zeros(truth.shape)\n",
        "\n",
        "        if(len(regions_truth) > 1):\n",
        "            # isolation\n",
        "            center = (int(truth.shape[0]/2), int(truth.shape[1]/2)) # image center\n",
        "            most_centered_region = min(regions_truth, key=lambda region: (np.linalg.norm(np.subtract(region.centroid, center))/region.area) ) # minimizes center distance and maximizes object area\n",
        "            truth_bb[most_centered_region.slice] = 1 # fills bounding box\n",
        "\n",
        "            # write bounding box\n",
        "            if not os.path.isdir(bbox_truth_path + middle_path): os.makedirs(bbox_truth_path + middle_path)\n",
        "            io.imsave(img_path.replace(segmented_path, bbox_truth_path).replace('.JPG', '.png'), float_to_int(most_centered_region.image), check_contrast=False)\n",
        "        else:\n",
        "            if(len(regions_truth) > 0): truth_bb[regions_truth[0].slice] = 1 # fills bounding box\n",
        "\n",
        "            # write bounding box\n",
        "            if not os.path.isdir(bbox_truth_path + middle_path): os.makedirs(bbox_truth_path + middle_path)\n",
        "            if(len(regions_truth) > 0): io.imsave(img_path.replace(segmented_path, bbox_truth_path).replace('.JPG', '.png'), float_to_int(regions_truth[0].image), check_contrast=False)\n",
        "            else: io.imsave(img_path.replace(segmented_path, bbox_truth_path).replace('.JPG', '.png'), np.zeros((1,1)), check_contrast=False)\n",
        "    # [1] Jaccard Scores\n",
        "    if hasTruth:\n",
        "        print(f'[{idx}]', img_path)\n",
        "        img = io.imread(img_path)\n",
        "\n",
        "        label = measure.label(img)\n",
        "        regions = measure.regionprops(label)\n",
        "\n",
        "        img_bb = np.zeros(img.shape)\n",
        "        if(len(regions) > 1):\n",
        "            # isolation\n",
        "            center = (int(truth.shape[0]/2), int(truth.shape[1]/2)) # image center\n",
        "            most_centered_region = min(regions, key=lambda region: (np.linalg.norm(np.subtract(region.centroid, center))/region.area) ) # minimizes center distance and maximizes object area\n",
        "            img_bb[most_centered_region.slice] = 1 # fills bounding box\n",
        "        elif(len(regions) > 0):\n",
        "            img_bb[regions[0].slice] = 1 # fills bounding box\n",
        "\n",
        "        jaccard_idx = jaccard_score(img_bb*1, truth_bb*1, average='micro') # micro p/ 2d image comparison https://scikit-learn.org/stable/modules/generated/sklearn.metrics.jaccard_score.html\n",
        "\n",
        "        curr_class = img_path.split('/')[-3]\n",
        "        background = img_path.split('/')[-4]\n",
        "        environment = img_path.split('/')[-5]\n",
        "        time = img_path.split('/')[-6]\n",
        "        if curr_class  in scores:            scores[curr_class].append(jaccard_idx)\n",
        "        if background  in scores_background: scores_background[background].append(jaccard_idx)\n",
        "        if environment in scores_env:        scores_env[environment].append(jaccard_idx)\n",
        "        if time        in scores_time:       scores_time[time].append(jaccard_idx)"
      ],
      "metadata": {
        "id": "bCBeN3TYQc75"
      },
      "execution_count": null,
      "outputs": []
    },
    {
      "cell_type": "code",
      "source": [
        "# get average jaccard scores\n",
        "print('[1.1] Average Jaccard Scores by Class')\n",
        "for key, value in scores.items():\n",
        "    if value: print(key, np.average(value), np.median(value), len(value))\n",
        "print('\\n[1.2] Average Jaccard Scores by Background')\n",
        "for key, value in scores_background.items():\n",
        "    if value: print(key, np.average(value), np.median(value), len(value))\n",
        "print('\\n[1.3] Average Jaccard Scores by Environment')\n",
        "for key, value in scores_env.items():\n",
        "    if value: print(key, np.average(value), np.median(value), len(value))\n",
        "print('\\n[1.4] Average Jaccard Scores by Time')\n",
        "for key, value in scores_time.items():\n",
        "    if value: print(key, np.average(value), np.median(value), len(value))"
      ],
      "metadata": {
        "colab": {
          "base_uri": "https://localhost:8080/"
        },
        "id": "dqWIGgt-ViLZ",
        "outputId": "891202ae-5a2e-4740-d8b5-9cd11f636379"
      },
      "execution_count": null,
      "outputs": [
        {
          "output_type": "stream",
          "name": "stdout",
          "text": [
            "[1.1] Average Jaccard Scores by Class\n",
            "borrachas 0.5325306585012034 0.547205548427838 16\n",
            "cartas 0.9058389493609182 0.9706261541260099 16\n",
            "celulares 0.8502312026181853 0.9368360033126877 16\n",
            "conchas 0.7733642742648823 0.9667886576364418 16\n",
            "copos 0.6024580314374761 0.5824047080315682 16\n",
            "dados 0.5308388105615046 0.5563162989473909 16\n",
            "estatuas 0.7072930525141282 0.8085422818989125 16\n",
            "lapis 0.6340114586569175 0.647564594972067 16\n",
            "tubos 0.7301262597442238 0.8325100673797264 16\n",
            "vasos 0.7167864354104434 0.6853404243119419 16\n",
            "\n",
            "[1.2] Average Jaccard Scores by Background\n",
            "branco 0.7678914291822809 0.7893892238864034 63\n",
            "preto 0.8631240744936604 0.9237565684956618 53\n",
            "verde 0.4002938668743281 0.4271427754788698 44\n",
            "\n",
            "[1.3] Average Jaccard Scores by Environment\n",
            "exterior 0.7185712658490878 0.7669410956585798 79\n",
            "interior 0.6786239028029654 0.7301627070683252 81\n",
            "\n",
            "[1.4] Average Jaccard Scores by Time\n",
            "dia 0.6708893759064378 0.6927218929180226 120\n",
            "noite 0.7807235255086399 0.8947314397427242 40\n"
          ]
        }
      ]
    }
  ]
}